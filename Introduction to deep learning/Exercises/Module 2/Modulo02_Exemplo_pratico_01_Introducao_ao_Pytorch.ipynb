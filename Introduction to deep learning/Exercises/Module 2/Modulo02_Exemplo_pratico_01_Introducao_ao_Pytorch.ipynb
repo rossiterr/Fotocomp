{
  "cells": [
    {
      "cell_type": "markdown",
      "metadata": {
        "id": "Nne_DFrByoPA"
      },
      "source": [
        "# Introdução ao Pytorch"
      ]
    },
    {
      "cell_type": "markdown",
      "metadata": {
        "id": "Z66PPosgyoPD"
      },
      "source": [
        "O Pytorch é uma *framework* para aplicações de modelos de redes neurais. Toda sua documentação pode ser vista no site oficial do [Pytorch](https://pytorch.org/).\n",
        "\n",
        "Esse tutorial apresenta alguns passos introdutórios para produção dos modelos de Deep Learning que serão aplicados e foi baseado no tutorial oferecido pelo [Pytorch Tutorial](https://pytorch.org/tutorials/beginner/basics/intro.html).\n",
        "O tutorial tem os seguintes passos:\n",
        "- Tensores\n",
        "- Datasets e Dataloader\n",
        "- Construção do Modelo\n",
        "- Autograd\n",
        "- Treinamento do modelo\n",
        "- Salvamento e Carregamento do modelo"
      ]
    },
    {
      "cell_type": "markdown",
      "metadata": {
        "id": "DmWd-4XjyoPE"
      },
      "source": [
        "Primeiro, importa-se as bibliotecas necessárias para esse tutorial"
      ]
    },
    {
      "cell_type": "markdown",
      "metadata": {
        "id": "nFjiLFxoyoPE"
      },
      "source": [
        "## Tensores\n",
        "\n",
        "Tensores são a estrutura de dados especializadas para os calculos dos parâmetros desejados dos modelos. Nesta sessão serão descritos como criar os tensores e algumas operações básicas.\n"
      ]
    },
    {
      "cell_type": "code",
      "execution_count": null,
      "metadata": {
        "id": "KeQMnSzEyoPF"
      },
      "outputs": [],
      "source": [
        "# Bibliotecas necessárias para essa seção\n",
        "import torch\n",
        "import numpy as numpy"
      ]
    },
    {
      "cell_type": "markdown",
      "metadata": {
        "id": "40PfMrRNyoPG"
      },
      "source": [
        "### Inicialização de Tensores"
      ]
    },
    {
      "cell_type": "markdown",
      "metadata": {
        "id": "3irqHRmfyoPG"
      },
      "source": []
    },
    {
      "cell_type": "code",
      "execution_count": null,
      "metadata": {
        "id": "GNc4d6cfyoPG",
        "colab": {
          "base_uri": "https://localhost:8080/"
        },
        "outputId": "951d1c6e-3c9d-4107-fadd-3eebb3a00828"
      },
      "outputs": [
        {
          "output_type": "stream",
          "name": "stdout",
          "text": [
            "Valores a partir de uma lista: tensor([[1, 2],\n",
            "        [2, 4]])\n",
            "\n",
            "\n",
            "Valores a partir partir de um numpy array: [[1, 2], [2, 4]]\n",
            "\n",
            "\n",
            "Valores unitários a partir de um tensor: tensor([[1, 1],\n",
            "        [1, 1]])\n",
            "\n",
            "\n",
            "Valores aleatórios a partir de um tensor: tensor([[0.0173, 0.7524],\n",
            "        [0.8764, 0.7541]])\n",
            "\n",
            "\n"
          ]
        }
      ],
      "source": [
        "# Inicialização do Tensor a partir de uma lista\n",
        "data = [[1, 2], [2, 4]]\n",
        "x_data = torch.tensor(data)\n",
        "print(f\"Valores a partir de uma lista: {x_data}\", end=\"\\n\\n\\n\")\n",
        "\n",
        "# Inicialização do Tensor a partir de um numpy array\n",
        "np_array = [[1, 2], [2, 4]]\n",
        "x_np = torch.tensor(np_array)\n",
        "print(f\"Valores a partir partir de um numpy array: {np_array}\", end=\"\\n\\n\\n\")\n",
        "\n",
        "# Inicialização do Tensor a partir de outro tensor.\n",
        "# Valores unitários\n",
        "x_ones = torch.ones_like(x_data)\n",
        "print(f\"Valores unitários a partir de um tensor: {x_ones}\", end=\"\\n\\n\\n\")\n",
        "\n",
        "# Valores aleatórios\n",
        "x_rand = torch.rand_like(x_data, dtype=torch.float)\n",
        "print(f\"Valores aleatórios a partir de um tensor: {x_rand}\", end=\"\\n\\n\\n\")\n"
      ]
    },
    {
      "cell_type": "code",
      "execution_count": null,
      "metadata": {
        "id": "EV_WD0Q0yoPH",
        "colab": {
          "base_uri": "https://localhost:8080/"
        },
        "outputId": "0190c1c4-e212-401b-db6d-919cd1eaf154"
      },
      "outputs": [
        {
          "output_type": "stream",
          "name": "stdout",
          "text": [
            "Dimensão do Tensor: torch.Size([3, 4])\n",
            "Tipo de dado do Tensor: torch.float32\n",
            "Device em que o Tensor está armazenado: cpu\n"
          ]
        }
      ],
      "source": [
        "# Alguns atributos do tensor\n",
        "tensor = torch.rand(3, 4)\n",
        "\n",
        "print(f\"Dimensão do Tensor: {tensor.shape}\")\n",
        "print(f\"Tipo de dado do Tensor: {tensor.dtype}\")\n",
        "print(f\"Device em que o Tensor está armazenado: {tensor.device}\")"
      ]
    },
    {
      "cell_type": "markdown",
      "metadata": {
        "id": "A1TMyr3QyoPH"
      },
      "source": [
        "### Operações com Tensores"
      ]
    },
    {
      "cell_type": "code",
      "execution_count": null,
      "metadata": {
        "id": "4N7PHXWiyoPH",
        "colab": {
          "base_uri": "https://localhost:8080/"
        },
        "outputId": "c81b28ac-b831-43c8-8156-0a7aea3700f0"
      },
      "outputs": [
        {
          "output_type": "stream",
          "name": "stdout",
          "text": [
            "Primeira linha: tensor([1., 1., 1., 1.])\n",
            "Primeira coluna: tensor([1., 1., 1., 1.])\n",
            "Última coluna: tensor([1., 1., 1., 1.])\n"
          ]
        },
        {
          "output_type": "execute_result",
          "data": {
            "text/plain": [
              "tensor([[1., 0., 1., 1.],\n",
              "        [1., 0., 1., 1.],\n",
              "        [1., 0., 1., 1.],\n",
              "        [1., 0., 1., 1.]])"
            ]
          },
          "metadata": {},
          "execution_count": 4
        }
      ],
      "source": [
        "# Indexing e Slicing:\n",
        "tensor = torch.ones(4, 4)\n",
        "print(f\"Primeira linha: {tensor[0]}\")\n",
        "print(f\"Primeira coluna: {tensor[:, 0]}\")\n",
        "print(f\"Última coluna: {tensor[..., -1]}\")\n",
        "\n",
        "tensor[:, 1] = 0\n",
        "tensor"
      ]
    },
    {
      "cell_type": "code",
      "execution_count": null,
      "metadata": {
        "id": "H6hjNrWGyoPI",
        "colab": {
          "base_uri": "https://localhost:8080/"
        },
        "outputId": "86acd71f-9f14-4d28-b108-4e47c703ad7a"
      },
      "outputs": [
        {
          "output_type": "execute_result",
          "data": {
            "text/plain": [
              "tensor([[1., 0., 1., 1., 1., 0., 1., 1., 1., 0., 1., 1.],\n",
              "        [1., 0., 1., 1., 1., 0., 1., 1., 1., 0., 1., 1.],\n",
              "        [1., 0., 1., 1., 1., 0., 1., 1., 1., 0., 1., 1.],\n",
              "        [1., 0., 1., 1., 1., 0., 1., 1., 1., 0., 1., 1.]])"
            ]
          },
          "metadata": {},
          "execution_count": 5
        }
      ],
      "source": [
        "# Concatenação de Tensores:\n",
        "t1 = torch.cat([tensor, tensor, tensor], dim=1)\n",
        "t1"
      ]
    },
    {
      "cell_type": "code",
      "execution_count": null,
      "metadata": {
        "id": "HWdDVlWjyoPI",
        "colab": {
          "base_uri": "https://localhost:8080/"
        },
        "outputId": "e4356c22-23d1-40e4-9420-97419cbd0d2b"
      },
      "outputs": [
        {
          "output_type": "stream",
          "name": "stdout",
          "text": [
            "tensor([[0.7137, 0.3960, 0.3444, 0.3597],\n",
            "        [0.9143, 0.5665, 0.1483, 0.2012],\n",
            "        [0.0816, 0.0578, 0.2711, 0.5590]])\n",
            "tensor([[0.9355, 0.7338, 0.2782, 0.1287],\n",
            "        [0.1777, 0.2305, 0.8699, 0.3294],\n",
            "        [0.8455, 0.6220, 0.8112, 0.5545]])\n"
          ]
        }
      ],
      "source": [
        "# Operações aritméticas\n",
        "tensor1 = torch.rand(3, 4)\n",
        "tensor2 = torch.rand_like(tensor1)\n",
        "\n",
        "print(tensor1)\n",
        "print(tensor2)\n"
      ]
    },
    {
      "cell_type": "code",
      "execution_count": null,
      "metadata": {
        "id": "EQdfOrZByoPI",
        "colab": {
          "base_uri": "https://localhost:8080/"
        },
        "outputId": "1f48fb5e-aa98-4e5f-ca5d-10c53c45ea9b"
      },
      "outputs": [
        {
          "output_type": "stream",
          "name": "stdout",
          "text": [
            "tensor([[1.6492, 1.1298, 0.6226, 0.4884],\n",
            "        [1.0921, 0.7970, 1.0182, 0.5306],\n",
            "        [0.9271, 0.6798, 1.0824, 1.1136]])\n",
            "tensor([[-0.2218, -0.3378,  0.0662,  0.2310],\n",
            "        [ 0.7366,  0.3360, -0.7216, -0.1282],\n",
            "        [-0.7640, -0.5642, -0.5401,  0.0045]])\n"
          ]
        }
      ],
      "source": [
        "# Soma e Subtração (opera elemento a elemento)\n",
        "sum_tensor = tensor1 + tensor2\n",
        "sub_tensor = tensor1 - tensor2\n",
        "\n",
        "print(sum_tensor)\n",
        "print(sub_tensor)"
      ]
    },
    {
      "cell_type": "code",
      "execution_count": null,
      "metadata": {
        "id": "r5Q-Lzn4yoPI",
        "colab": {
          "base_uri": "https://localhost:8080/"
        },
        "outputId": "c7333f8e-779e-410f-9a74-cbf135d6f33a"
      },
      "outputs": [
        {
          "output_type": "stream",
          "name": "stdout",
          "text": [
            "tensor([[0.6677, 0.2906, 0.0958, 0.0463],\n",
            "        [0.1625, 0.1306, 0.1290, 0.0663],\n",
            "        [0.0690, 0.0359, 0.2199, 0.3100]])\n",
            "tensor([[0.7629, 0.5397, 1.2378, 2.7958],\n",
            "        [5.1447, 2.4572, 0.1705, 0.6109],\n",
            "        [0.0965, 0.0929, 0.3342, 1.0081]])\n"
          ]
        }
      ],
      "source": [
        "# Multiplicação e Divisão (opera elemento a elemento)\n",
        "mul_tensor = tensor1 * tensor2  ## ou torch.mul(tensor1, tensor2)\n",
        "div_tensor = tensor1 / tensor2  ## ou torch.div(tensor1, tensor2)\n",
        "\n",
        "print(mul_tensor)\n",
        "print(div_tensor)"
      ]
    },
    {
      "cell_type": "code",
      "execution_count": null,
      "metadata": {
        "id": "xByE4M2RyoPI",
        "colab": {
          "base_uri": "https://localhost:8080/"
        },
        "outputId": "b122dba1-68c9-48bb-ddfa-35efa52940c1"
      },
      "outputs": [
        {
          "output_type": "stream",
          "name": "stdout",
          "text": [
            "Forma 1: tensor([[1.1003, 0.6362, 1.3286],\n",
            "        [1.3382, 0.4884, 1.3574],\n",
            "        [0.2660, 0.4478, 0.6349]])\n",
            "Forma 2: tensor([[1.1003, 0.6362, 1.3286],\n",
            "        [1.3382, 0.4884, 1.3574],\n",
            "        [0.2660, 0.4478, 0.6349]])\n"
          ]
        }
      ],
      "source": [
        "# Multiplicação Matricial sobre os tensores\n",
        "mul_mat_tensor1 = tensor1 @ tensor2.T  # Note: tensor2.T significa a transposição da matriz.\n",
        "mul_mat_tensor2 = torch.matmul(tensor1, tensor2.T)\n",
        "\n",
        "print(f\"Forma 1: {mul_mat_tensor1}\")\n",
        "print(f\"Forma 2: {mul_mat_tensor2}\")"
      ]
    },
    {
      "cell_type": "markdown",
      "metadata": {
        "id": "4MAZ-DJhyoPI"
      },
      "source": [
        "## Datasets e Dataloaders\n",
        "\n",
        "Datasets são os conjuntos de dados utilizado para treinamento dos parametros dos modelos. Dataloaders são a estrutura para treinamento dos modelos no qual será feita a separação de dos *minibatchs*, eleatorização dos dados etc."
      ]
    },
    {
      "cell_type": "code",
      "execution_count": null,
      "metadata": {
        "id": "v7J8dHgPyoPJ"
      },
      "outputs": [],
      "source": [
        "# Bibliotecas necessárias para essa seção\n",
        "import torch\n",
        "from torch.utils.data import Dataset\n",
        "from torchvision import datasets\n",
        "from torchvision.transforms import ToTensor\n",
        "import matplotlib.pyplot as plt"
      ]
    },
    {
      "cell_type": "markdown",
      "metadata": {
        "id": "Fc-rBXniyoPJ"
      },
      "source": [
        "### Dataset\n",
        "\n",
        "Esse exemplo faz o carregamento do dataset implementado na própria framework. Os dados utilizado aqui é o Fashion-MNIST. Outros datasets já implementados podem ser vistas em [Pytorch Dataset](https://pytorch.org/vision/stable/datasets.html)\n"
      ]
    },
    {
      "cell_type": "code",
      "execution_count": null,
      "metadata": {
        "id": "EcE4lrz5yoPJ",
        "colab": {
          "base_uri": "https://localhost:8080/"
        },
        "outputId": "be079f9b-459d-4b17-e507-29eb509e2db5"
      },
      "outputs": [
        {
          "output_type": "stream",
          "name": "stdout",
          "text": [
            "Downloading http://fashion-mnist.s3-website.eu-central-1.amazonaws.com/train-images-idx3-ubyte.gz\n",
            "Downloading http://fashion-mnist.s3-website.eu-central-1.amazonaws.com/train-images-idx3-ubyte.gz to data/FashionMNIST/raw/train-images-idx3-ubyte.gz\n"
          ]
        },
        {
          "output_type": "stream",
          "name": "stderr",
          "text": [
            "100%|██████████| 26421880/26421880 [00:02<00:00, 12848486.69it/s]\n"
          ]
        },
        {
          "output_type": "stream",
          "name": "stdout",
          "text": [
            "Extracting data/FashionMNIST/raw/train-images-idx3-ubyte.gz to data/FashionMNIST/raw\n",
            "\n",
            "Downloading http://fashion-mnist.s3-website.eu-central-1.amazonaws.com/train-labels-idx1-ubyte.gz\n",
            "Downloading http://fashion-mnist.s3-website.eu-central-1.amazonaws.com/train-labels-idx1-ubyte.gz to data/FashionMNIST/raw/train-labels-idx1-ubyte.gz\n"
          ]
        },
        {
          "output_type": "stream",
          "name": "stderr",
          "text": [
            "100%|██████████| 29515/29515 [00:00<00:00, 204755.69it/s]\n"
          ]
        },
        {
          "output_type": "stream",
          "name": "stdout",
          "text": [
            "Extracting data/FashionMNIST/raw/train-labels-idx1-ubyte.gz to data/FashionMNIST/raw\n",
            "\n",
            "Downloading http://fashion-mnist.s3-website.eu-central-1.amazonaws.com/t10k-images-idx3-ubyte.gz\n",
            "Downloading http://fashion-mnist.s3-website.eu-central-1.amazonaws.com/t10k-images-idx3-ubyte.gz to data/FashionMNIST/raw/t10k-images-idx3-ubyte.gz\n"
          ]
        },
        {
          "output_type": "stream",
          "name": "stderr",
          "text": [
            "100%|██████████| 4422102/4422102 [00:01<00:00, 3750155.71it/s]\n"
          ]
        },
        {
          "output_type": "stream",
          "name": "stdout",
          "text": [
            "Extracting data/FashionMNIST/raw/t10k-images-idx3-ubyte.gz to data/FashionMNIST/raw\n",
            "\n",
            "Downloading http://fashion-mnist.s3-website.eu-central-1.amazonaws.com/t10k-labels-idx1-ubyte.gz\n",
            "Downloading http://fashion-mnist.s3-website.eu-central-1.amazonaws.com/t10k-labels-idx1-ubyte.gz to data/FashionMNIST/raw/t10k-labels-idx1-ubyte.gz\n"
          ]
        },
        {
          "output_type": "stream",
          "name": "stderr",
          "text": [
            "100%|██████████| 5148/5148 [00:00<00:00, 26558766.29it/s]"
          ]
        },
        {
          "output_type": "stream",
          "name": "stdout",
          "text": [
            "Extracting data/FashionMNIST/raw/t10k-labels-idx1-ubyte.gz to data/FashionMNIST/raw\n",
            "\n"
          ]
        },
        {
          "output_type": "stream",
          "name": "stderr",
          "text": [
            "\n"
          ]
        }
      ],
      "source": [
        "# Carregamento dos dados\n",
        "\n",
        "training_data = datasets.FashionMNIST(\n",
        "    root=\"data\",\n",
        "    train=True,\n",
        "    download=True,\n",
        "    transform=ToTensor()\n",
        ")\n",
        "\n",
        "test_data = datasets.FashionMNIST(\n",
        "    root=\"data\",\n",
        "    train=False,\n",
        "    download=True,\n",
        "    transform=ToTensor()\n",
        ")"
      ]
    },
    {
      "cell_type": "code",
      "execution_count": null,
      "metadata": {
        "id": "L9FZxdrWyoPJ",
        "colab": {
          "base_uri": "https://localhost:8080/",
          "height": 675
        },
        "outputId": "90e6fe03-dc94-4fbd-d6e3-82fbfc0b370b"
      },
      "outputs": [
        {
          "output_type": "display_data",
          "data": {
            "text/plain": [
              "<Figure size 800x800 with 9 Axes>"
            ],
            "image/png": "[encoded data removed]"
          },
          "metadata": {}
        }
      ],
      "source": [
        "# Visualização dos datasets\n",
        "labels_map = {\n",
        "    0: \"T-Shirt\",\n",
        "    1: \"Trouser\",\n",
        "    2: \"Pullover\",\n",
        "    3: \"Dress\",\n",
        "    4: \"Coat\",\n",
        "    5: \"Sandal\",\n",
        "    6: \"Shirt\",\n",
        "    7: \"Sneaker\",\n",
        "    8: \"Bag\",\n",
        "    9: \"Ankle Boot\",\n",
        "}\n",
        "figure = plt.figure(figsize=(8, 8))\n",
        "cols, rows = 3, 3\n",
        "for i in range(1, cols * rows + 1):\n",
        "    sample_idx = torch.randint(len(training_data), size=(1,)).item()\n",
        "    img, label = training_data[sample_idx]\n",
        "    figure.add_subplot(rows, cols, i)\n",
        "    plt.title(labels_map[label])\n",
        "    plt.axis(\"off\")\n",
        "    plt.imshow(img.squeeze(), cmap=\"gray\")\n",
        "plt.show()"
      ]
    },
    {
      "cell_type": "markdown",
      "metadata": {
        "id": "L3dm-dCfyoPJ"
      },
      "source": [
        "### Criando um Dataset customizável a partir de seus arquivos.\n",
        "\n",
        "Deve-se utilizar a class implementada no Pytorch (torch.utils.data.Dataset) e implementar três funções: *__init__*, *__len__* e *__getitem__*"
      ]
    },
    {
      "cell_type": "code",
      "execution_count": null,
      "metadata": {
        "id": "Qc2-h3RXyoPJ"
      },
      "outputs": [],
      "source": [
        "# Exemplo de um Dataset customizado\n",
        "import os\n",
        "import pandas as pd\n",
        "from torchvision.io import read_image\n",
        "\n",
        "class CustomImageDataset(Dataset):\n",
        "    def __init__(self, annotations_file, img_dir, transform=None, target_transform=None):\n",
        "        self.img_labels = pd.read_csv(annotations_file)\n",
        "        self.img_dir = img_dir\n",
        "        self.transform = transform\n",
        "        self.target_transform = target_transform\n",
        "\n",
        "    def __len__(self):\n",
        "        return len(self.img_labels)\n",
        "\n",
        "    def __getitem__(self, idx):\n",
        "        img_path = os.path.join(self.img_dir, self.img_labels.iloc[idx, 0])\n",
        "        image = read_image(img_path)\n",
        "        label = self.img_labels.iloc[idx, 1]\n",
        "        if self.transform:\n",
        "            image = self.transform(image)\n",
        "        if self.target_transform:\n",
        "            label = self.target_transform(label)\n",
        "        return image, label\n"
      ]
    },
    {
      "cell_type": "markdown",
      "metadata": {
        "id": "rSdnvAQpyoPJ"
      },
      "source": [
        "### Preparação dos dados para treinamento.\n",
        "\n",
        "Após os datasets serem construídos, o próximo passo é montar o *dataloader*. No exemplo a seguir, utiliza-se a classe do Pytorch *torch.utils.data.DataLoader*.\n"
      ]
    },
    {
      "cell_type": "code",
      "execution_count": null,
      "metadata": {
        "id": "ZLYJ-fCKyoPK"
      },
      "outputs": [],
      "source": [
        "# Construção dos dataloaders.\n",
        "from torch.utils.data import DataLoader\n",
        "\n",
        "train_dataloader = DataLoader(training_data, batch_size=64, shuffle=True)\n",
        "test_dataloader = DataLoader(test_data, batch_size=64, shuffle=True)\n"
      ]
    },
    {
      "cell_type": "markdown",
      "metadata": {
        "id": "pxVFrzxHyoPK"
      },
      "source": [
        "### Iterando sobre o DataLoader."
      ]
    },
    {
      "cell_type": "code",
      "execution_count": null,
      "metadata": {
        "id": "EnE96VJ1yoPK",
        "colab": {
          "base_uri": "https://localhost:8080/",
          "height": 482
        },
        "outputId": "19093a8a-79e3-4fa9-bf8c-330259ca6783"
      },
      "outputs": [
        {
          "output_type": "stream",
          "name": "stdout",
          "text": [
            "Feature batch shape: torch.Size([64, 1, 28, 28])\n",
            "Labels batch shape: torch.Size([64])\n"
          ]
        },
        {
          "output_type": "display_data",
          "data": {
            "text/plain": [
              "<Figure size 640x480 with 1 Axes>"
            ],
            "image/png": "[encoded data removed]"
          },
          "metadata": {}
        },
        {
          "output_type": "stream",
          "name": "stdout",
          "text": [
            "Label: 1\n"
          ]
        }
      ],
      "source": [
        "# Display image and label.\n",
        "train_features, train_labels = next(iter(train_dataloader))\n",
        "print(f\"Feature batch shape: {train_features.size()}\")\n",
        "print(f\"Labels batch shape: {train_labels.size()}\")\n",
        "img = train_features[0].squeeze()\n",
        "label = train_labels[0]\n",
        "plt.imshow(img, cmap=\"gray\")\n",
        "plt.show()\n",
        "print(f\"Label: {label}\")"
      ]
    },
    {
      "cell_type": "markdown",
      "metadata": {
        "id": "MeWxrDF3yoPK"
      },
      "source": [
        "## Construindo a Rede Neural\n",
        "\n",
        "Esta seção sera descrito a construção das redes neurais, como camadas e blocos. Os blocos imploementados podem ser vistos em [torch.nn](https://pytorch.org/docs/stable/nn.html), todas sendo subclasses do [nn.Module](https://pytorch.org/docs/stable/generated/torch.nn.Module.html)"
      ]
    },
    {
      "cell_type": "code",
      "source": [
        "import os\n",
        "import torch\n",
        "from torch import nn\n",
        "from torch.utils.data import DataLoader\n",
        "from torchvision import datasets, transforms"
      ],
      "metadata": {
        "id": "PqW7xkLPzIPE"
      },
      "execution_count": null,
      "outputs": []
    },
    {
      "cell_type": "markdown",
      "metadata": {
        "id": "Cy9gw_ZNyoPK"
      },
      "source": [
        "### Utilização do dispositivo de treinamento\n",
        "\n",
        "Deve-se utilizar para treinar os modelos *hardwares* que acelerem, como GPU ou MPS, caso ,ão possua, utilize a própria CPU."
      ]
    },
    {
      "cell_type": "code",
      "execution_count": null,
      "metadata": {
        "id": "OflLRxsvyoPK",
        "colab": {
          "base_uri": "https://localhost:8080/"
        },
        "outputId": "c8d6b46a-f208-404d-916d-91de2635c263"
      },
      "outputs": [
        {
          "output_type": "stream",
          "name": "stdout",
          "text": [
            "Using cuda device\n"
          ]
        }
      ],
      "source": [
        "# Identificando o dispositivo disponível para treino.\n",
        "device = (\n",
        "    \"cuda\"\n",
        "    if torch.cuda.is_available()\n",
        "    else \"mps\"\n",
        "    if torch.backends.mps.is_available()\n",
        "    else \"cpu\"\n",
        ")\n",
        "print(f\"Using {device} device\")"
      ]
    },
    {
      "cell_type": "markdown",
      "metadata": {
        "id": "4iEUouO8yoPK"
      },
      "source": [
        "### Definição da Classe\n",
        "\n",
        "A classe que será a rede neural proposta deve ser uma subclasse de nn.Module e inicializa-se as camadas da rede a partir da função *__init__*. Após isso, deve ser implementada o método *forward*."
      ]
    },
    {
      "cell_type": "code",
      "execution_count": null,
      "metadata": {
        "id": "QKYHUt_cyoPK"
      },
      "outputs": [],
      "source": [
        "class NeuralNetwork(nn.Module):\n",
        "    def __init__(self):\n",
        "        super().__init__()\n",
        "        self.flatten = nn.Flatten()\n",
        "        self.linear_relu_stack = nn.Sequential(\n",
        "            nn.Linear(28*28, 512),\n",
        "            nn.ReLU(),\n",
        "            nn.Linear(512, 512),\n",
        "            nn.ReLU(),\n",
        "            nn.Linear(512, 10),\n",
        "        )\n",
        "\n",
        "    def forward(self, x):\n",
        "        x = self.flatten(x)\n",
        "        logits = self.linear_relu_stack(x)\n",
        "        return logits"
      ]
    },
    {
      "cell_type": "code",
      "execution_count": null,
      "metadata": {
        "id": "VXG6hqBbyoPK",
        "colab": {
          "base_uri": "https://localhost:8080/"
        },
        "outputId": "0ece4eba-6616-4802-d3e3-710059ef521f"
      },
      "outputs": [
        {
          "output_type": "stream",
          "name": "stdout",
          "text": [
            "NeuralNetwork(\n",
            "  (flatten): Flatten(start_dim=1, end_dim=-1)\n",
            "  (linear_relu_stack): Sequential(\n",
            "    (0): Linear(in_features=784, out_features=512, bias=True)\n",
            "    (1): ReLU()\n",
            "    (2): Linear(in_features=512, out_features=512, bias=True)\n",
            "    (3): ReLU()\n",
            "    (4): Linear(in_features=512, out_features=10, bias=True)\n",
            "  )\n",
            ")\n"
          ]
        }
      ],
      "source": [
        "# Transferindo a rede neural para o dispositivo disponível.\n",
        "model = NeuralNetwork().to(device)\n",
        "print(model)"
      ]
    },
    {
      "cell_type": "code",
      "execution_count": null,
      "metadata": {
        "id": "asp4BDoDyoPL",
        "colab": {
          "base_uri": "https://localhost:8080/"
        },
        "outputId": "f750a6a0-5011-4d08-af0b-ecd0e41aeea4"
      },
      "outputs": [
        {
          "output_type": "stream",
          "name": "stdout",
          "text": [
            "Predicted class: tensor([1], device='cuda:0')\n"
          ]
        }
      ],
      "source": [
        "# Exemplo do forward implementado\n",
        "X = torch.rand(1, 28, 28, device=device)\n",
        "logits = model(X)\n",
        "pred_probab = nn.Softmax(dim=1)(logits)\n",
        "y_pred = pred_probab.argmax(1)\n",
        "print(f\"Predicted class: {y_pred}\")"
      ]
    },
    {
      "cell_type": "markdown",
      "metadata": {
        "id": "-Qq-xvMXyoPL"
      },
      "source": [
        "### Camadas do modelo\n",
        "\n",
        "Utilizando uma imagem colorida, com entradas RGB, tem-se que as imagens tem a seguinte dimensão: 3x28x28 (CxHxW), no qual C é o número de canais, H a altura da imagem e W a largura da imagem."
      ]
    },
    {
      "cell_type": "code",
      "execution_count": null,
      "metadata": {
        "id": "SHC0Pok2yoPL",
        "colab": {
          "base_uri": "https://localhost:8080/"
        },
        "outputId": "f59d82c7-46e0-4c02-fc47-5a1a19ae2614"
      },
      "outputs": [
        {
          "output_type": "stream",
          "name": "stdout",
          "text": [
            "torch.Size([3, 28, 28])\n"
          ]
        }
      ],
      "source": [
        "# Exemplo de uma imagem com entrada RGB\n",
        "input_image = torch.rand(3,28,28)\n",
        "print(input_image.size())"
      ]
    },
    {
      "cell_type": "code",
      "execution_count": null,
      "metadata": {
        "id": "daEg_yjMyoPL",
        "colab": {
          "base_uri": "https://localhost:8080/"
        },
        "outputId": "a5733da5-d513-4bb9-9194-6da66faa2011"
      },
      "outputs": [
        {
          "output_type": "stream",
          "name": "stdout",
          "text": [
            "torch.Size([3, 784])\n"
          ]
        }
      ],
      "source": [
        "# Flatten: Converte a imagem 28x28 para um array contínuo de 784 pixels.\n",
        "flatten = nn.Flatten()\n",
        "flat_image = flatten(input_image)\n",
        "print(flat_image.size())"
      ]
    },
    {
      "cell_type": "code",
      "execution_count": null,
      "metadata": {
        "id": "RLUaNi3byoPL",
        "colab": {
          "base_uri": "https://localhost:8080/"
        },
        "outputId": "b822fcce-d955-458a-e89f-53f4213932f8"
      },
      "outputs": [
        {
          "output_type": "stream",
          "name": "stdout",
          "text": [
            "torch.Size([3, 20])\n"
          ]
        }
      ],
      "source": [
        "# nn.Linear é a camada totalmente conectada, no qual aplica a transformação linear, armazenando peso e bias.\n",
        "layer1 = nn.Linear(in_features=28*28, out_features=20)\n",
        "hidden1 = layer1(flat_image)\n",
        "print(hidden1.size())"
      ]
    },
    {
      "cell_type": "code",
      "execution_count": null,
      "metadata": {
        "id": "Z7UjYKRHyoPL",
        "colab": {
          "base_uri": "https://localhost:8080/"
        },
        "outputId": "adc3a5dc-690c-428d-a174-77ac20c1cde6"
      },
      "outputs": [
        {
          "output_type": "stream",
          "name": "stdout",
          "text": [
            "Before ReLU: tensor([[ 0.2732, -0.2663,  0.4725,  0.3270, -0.1425,  0.0799, -0.2182,  0.2543,\n",
            "         -0.2632, -0.3649,  0.1055, -0.0725,  0.1273,  0.2352, -0.0433, -0.1053,\n",
            "          0.3948, -0.4111, -0.3280, -0.5311],\n",
            "        [ 0.5290, -0.0831,  0.2832,  0.2170, -0.0851, -0.1747,  0.1477,  0.2340,\n",
            "         -0.5836, -0.1536,  0.1808, -0.2000, -0.1603,  0.1021, -0.3393,  0.1510,\n",
            "          0.2805, -0.1485, -0.2038, -0.4151],\n",
            "        [ 0.4756, -0.3913,  0.3602,  0.3477,  0.1892, -0.3841, -0.1668,  0.0456,\n",
            "         -0.3463,  0.0938, -0.0058, -0.2408, -0.2873, -0.1054, -0.1593, -0.1253,\n",
            "          0.5357, -0.3557, -0.3061, -0.3644]], grad_fn=<AddmmBackward0>)\n",
            "\n",
            "\n",
            "After ReLU: tensor([[0.2732, 0.0000, 0.4725, 0.3270, 0.0000, 0.0799, 0.0000, 0.2543, 0.0000,\n",
            "         0.0000, 0.1055, 0.0000, 0.1273, 0.2352, 0.0000, 0.0000, 0.3948, 0.0000,\n",
            "         0.0000, 0.0000],\n",
            "        [0.5290, 0.0000, 0.2832, 0.2170, 0.0000, 0.0000, 0.1477, 0.2340, 0.0000,\n",
            "         0.0000, 0.1808, 0.0000, 0.0000, 0.1021, 0.0000, 0.1510, 0.2805, 0.0000,\n",
            "         0.0000, 0.0000],\n",
            "        [0.4756, 0.0000, 0.3602, 0.3477, 0.1892, 0.0000, 0.0000, 0.0456, 0.0000,\n",
            "         0.0938, 0.0000, 0.0000, 0.0000, 0.0000, 0.0000, 0.0000, 0.5357, 0.0000,\n",
            "         0.0000, 0.0000]], grad_fn=<ReluBackward0>)\n"
          ]
        }
      ],
      "source": [
        "# nn.ReLU, aplica a função de ativação ReLU aos valores de saída da rede.\n",
        "print(f\"Before ReLU: {hidden1}\\n\\n\")\n",
        "hidden1 = nn.ReLU()(hidden1)\n",
        "print(f\"After ReLU: {hidden1}\")"
      ]
    },
    {
      "cell_type": "code",
      "execution_count": null,
      "metadata": {
        "id": "04tbHu4KyoPP"
      },
      "outputs": [],
      "source": [
        "# nn.Sequencial, é o módulo de no qual agrupa todos os módulos de forma sequencial.\n",
        "seq_modules = nn.Sequential(\n",
        "    flatten,\n",
        "    layer1,\n",
        "    nn.ReLU(),\n",
        "    nn.Linear(20, 10)\n",
        ")\n",
        "input_image = torch.rand(3,28,28)\n",
        "logits = seq_modules(input_image)"
      ]
    },
    {
      "cell_type": "code",
      "execution_count": null,
      "metadata": {
        "id": "lzwsRwkWyoPQ"
      },
      "outputs": [],
      "source": [
        "# Softmax transforma os valores no intervalo (-inf, +inf) para escala [0, 1], representando a probablidade de cada classe e soma igual a 1.\n",
        "softmax = nn.Softmax(dim=1)\n",
        "pred_probab = softmax(logits)"
      ]
    },
    {
      "cell_type": "code",
      "execution_count": null,
      "metadata": {
        "id": "v7O6ozDoyoPQ",
        "colab": {
          "base_uri": "https://localhost:8080/"
        },
        "outputId": "3a7b9518-a51e-4eb7-8971-6a5fe9f753d6"
      },
      "outputs": [
        {
          "output_type": "stream",
          "name": "stdout",
          "text": [
            "Model structure: NeuralNetwork(\n",
            "  (flatten): Flatten(start_dim=1, end_dim=-1)\n",
            "  (linear_relu_stack): Sequential(\n",
            "    (0): Linear(in_features=784, out_features=512, bias=True)\n",
            "    (1): ReLU()\n",
            "    (2): Linear(in_features=512, out_features=512, bias=True)\n",
            "    (3): ReLU()\n",
            "    (4): Linear(in_features=512, out_features=10, bias=True)\n",
            "  )\n",
            ")\n",
            "\n",
            "\n",
            "Layer: linear_relu_stack.0.weight | Size: torch.Size([512, 784]) | Values : tensor([[-0.0166, -0.0023,  0.0095,  ..., -0.0309, -0.0341,  0.0257],\n",
            "        [ 0.0337, -0.0273,  0.0041,  ..., -0.0107, -0.0123, -0.0067]],\n",
            "       device='cuda:0', grad_fn=<SliceBackward0>) \n",
            "\n",
            "Layer: linear_relu_stack.0.bias | Size: torch.Size([512]) | Values : tensor([-0.0079,  0.0259], device='cuda:0', grad_fn=<SliceBackward0>) \n",
            "\n",
            "Layer: linear_relu_stack.2.weight | Size: torch.Size([512, 512]) | Values : tensor([[-0.0081,  0.0125,  0.0327,  ...,  0.0106,  0.0177, -0.0420],\n",
            "        [-0.0117, -0.0124, -0.0232,  ...,  0.0315,  0.0171, -0.0160]],\n",
            "       device='cuda:0', grad_fn=<SliceBackward0>) \n",
            "\n",
            "Layer: linear_relu_stack.2.bias | Size: torch.Size([512]) | Values : tensor([ 0.0166, -0.0429], device='cuda:0', grad_fn=<SliceBackward0>) \n",
            "\n",
            "Layer: linear_relu_stack.4.weight | Size: torch.Size([10, 512]) | Values : tensor([[ 3.0008e-02,  3.3278e-02,  2.4694e-02,  ...,  1.4460e-02,\n",
            "         -1.2282e-02,  2.7259e-02],\n",
            "        [ 2.3344e-05,  1.3758e-02, -4.1854e-02,  ..., -1.9204e-02,\n",
            "          1.3760e-02,  1.5152e-02]], device='cuda:0', grad_fn=<SliceBackward0>) \n",
            "\n",
            "Layer: linear_relu_stack.4.bias | Size: torch.Size([10]) | Values : tensor([-0.0176, -0.0180], device='cuda:0', grad_fn=<SliceBackward0>) \n",
            "\n"
          ]
        }
      ],
      "source": [
        "# Representando os parâmetros dos modelos.\n",
        "print(f\"Model structure: {model}\\n\\n\")\n",
        "\n",
        "for name, param in model.named_parameters():\n",
        "    print(f\"Layer: {name} | Size: {param.size()} | Values : {param[:2]} \\n\")"
      ]
    },
    {
      "cell_type": "markdown",
      "metadata": {
        "id": "d8XeSkUiyoPQ"
      },
      "source": [
        "## Autograd\n",
        "\n",
        "Ao treinar as redes neurais, os algoritmos de retropropagação (bachpropagation) são utilizados para ajustar os parâmetros dos modelos de acordo com os gradientes da função de perda.\n",
        "\n",
        "Para computar os gradientes, o Pytorch possui uma ferramenta chamada torch.autograd, no qual computa os gradientes de qualquer gráfico computacional. O exemplo a seguir mostra a saída dos gradientes."
      ]
    },
    {
      "cell_type": "code",
      "execution_count": null,
      "metadata": {
        "id": "3iSceGZFyoPQ"
      },
      "outputs": [],
      "source": [
        "import torch\n",
        "\n",
        "x = torch.ones(5)  # Tensor de entrada\n",
        "y = torch.zeros(3)  # Saída esperada\n",
        "w = torch.randn(5, 3, requires_grad=True) # Perceptron com 5 entradas e 3 saídas\n",
        "b = torch.randn(3, requires_grad=True)\n",
        "z = torch.matmul(x, w)+b\n",
        "loss = torch.nn.functional.binary_cross_entropy_with_logits(z, y)"
      ]
    },
    {
      "cell_type": "code",
      "execution_count": null,
      "metadata": {
        "id": "S7xXJy3nyoPQ",
        "colab": {
          "base_uri": "https://localhost:8080/"
        },
        "outputId": "2dcf12ae-8894-49d2-8595-924e72221628"
      },
      "outputs": [
        {
          "output_type": "stream",
          "name": "stdout",
          "text": [
            "Gradient function for z = <AddBackward0 object at 0x797e6bc62ce0>\n",
            "Gradient function for loss = <BinaryCrossEntropyWithLogitsBackward0 object at 0x797e6baa5690>\n"
          ]
        }
      ],
      "source": [
        "print(f\"Gradient function for z = {z.grad_fn}\")\n",
        "print(f\"Gradient function for loss = {loss.grad_fn}\")"
      ]
    },
    {
      "cell_type": "code",
      "execution_count": null,
      "metadata": {
        "id": "pdvpWvQbyoPQ",
        "colab": {
          "base_uri": "https://localhost:8080/"
        },
        "outputId": "116c577e-af5f-462e-e026-91c4753e5a5c"
      },
      "outputs": [
        {
          "output_type": "stream",
          "name": "stdout",
          "text": [
            "tensor([[0.0220, 0.0050, 0.0692],\n",
            "        [0.0220, 0.0050, 0.0692],\n",
            "        [0.0220, 0.0050, 0.0692],\n",
            "        [0.0220, 0.0050, 0.0692],\n",
            "        [0.0220, 0.0050, 0.0692]])\n",
            "tensor([0.0220, 0.0050, 0.0692])\n"
          ]
        }
      ],
      "source": [
        "# Computando os gradientes\n",
        "loss.backward()\n",
        "print(w.grad)\n",
        "print(b.grad)"
      ]
    },
    {
      "cell_type": "markdown",
      "metadata": {
        "id": "g3XfSjJFyoPQ"
      },
      "source": [
        "## Treinamento do modelo\n",
        "\n",
        "Entendido os passos descritos anteriormente, agora deve-se treinar o modelo para ajustar os parâmetros e minimizar o erro associado as previsões.\n",
        "\n",
        "Recaptulando os códigos descritos anteriormente, temos:\n",
        "- O dataset que será utilizado, no caso Fashion MNIST;\n",
        "- O dataloader que fará os *minibatchs*\n",
        "- O modelo da rede neural"
      ]
    },
    {
      "cell_type": "code",
      "execution_count": null,
      "metadata": {
        "id": "2OAM-BSYyoPQ"
      },
      "outputs": [],
      "source": [
        "import torch\n",
        "from torch import nn\n",
        "from torch.utils.data import DataLoader\n",
        "from torchvision import datasets\n",
        "from torchvision.transforms import ToTensor\n",
        "\n",
        "training_data = datasets.FashionMNIST(\n",
        "    root=\"data\",\n",
        "    train=True,\n",
        "    download=True,\n",
        "    transform=ToTensor()\n",
        ")\n",
        "\n",
        "test_data = datasets.FashionMNIST(\n",
        "    root=\"data\",\n",
        "    train=False,\n",
        "    download=True,\n",
        "    transform=ToTensor()\n",
        ")\n",
        "\n",
        "train_dataloader = DataLoader(training_data, batch_size=64)\n",
        "test_dataloader = DataLoader(test_data, batch_size=64)\n",
        "\n",
        "class NeuralNetwork(nn.Module):\n",
        "    def __init__(self):\n",
        "        super().__init__()\n",
        "        self.flatten = nn.Flatten()\n",
        "        self.linear_relu_stack = nn.Sequential(\n",
        "            nn.Linear(28*28, 512),\n",
        "            nn.ReLU(),\n",
        "            nn.Linear(512, 512),\n",
        "            nn.ReLU(),\n",
        "            nn.Linear(512, 10),\n",
        "        )\n",
        "\n",
        "    def forward(self, x):\n",
        "        x = self.flatten(x)\n",
        "        logits = self.linear_relu_stack(x)\n",
        "        return logits\n",
        "\n",
        "model = NeuralNetwork()"
      ]
    },
    {
      "cell_type": "markdown",
      "metadata": {
        "id": "FqbC1e7IyoPR"
      },
      "source": [
        "### Hiperparametros\n",
        "- **Number of Epochs** - Número de vezes que será iterado pelo dataset.\n",
        "- **Batch Size** - Número de dados utilizados em cada propagação da rede neural;\n",
        "- **Learning Rate** - Fator de aprendizado dos parâmetros dos modelos"
      ]
    },
    {
      "cell_type": "code",
      "execution_count": null,
      "metadata": {
        "id": "TSqa5tQfyoPR"
      },
      "outputs": [],
      "source": [
        "learning_rate = 1e-3\n",
        "batch_size = 64\n",
        "epochs = 5"
      ]
    },
    {
      "cell_type": "markdown",
      "metadata": {
        "id": "idW8dRYMyoPR"
      },
      "source": [
        "### Treinamento\n",
        "\n",
        "Itera sobre os dados para convergir os parâmetros do modelo."
      ]
    },
    {
      "cell_type": "code",
      "execution_count": null,
      "metadata": {
        "id": "jrY03wXCyoPR"
      },
      "outputs": [],
      "source": [
        "def train_loop(dataloader, model, loss_fn, optimizer):\n",
        "    size = len(dataloader.dataset)\n",
        "    # Define o modelo para o modo de treinamento.\n",
        "    model.train()\n",
        "    for batch, (X, y) in enumerate(dataloader):\n",
        "        # Computa as previsões e a perda\n",
        "        pred = model(X)\n",
        "        loss = loss_fn(pred, y)\n",
        "\n",
        "        # Backpropagation\n",
        "        loss.backward()\n",
        "        optimizer.step()\n",
        "        optimizer.zero_grad()\n",
        "\n",
        "        if batch % 100 == 0:\n",
        "            loss, current = loss.item(), (batch + 1) * len(X)\n",
        "            print(f\"loss: {loss:>7f}  [{current:>5d}/{size:>5d}]\")\n"
      ]
    },
    {
      "cell_type": "markdown",
      "metadata": {
        "id": "wmvsimZryoPR"
      },
      "source": [
        "### Validação/Teste\n",
        "\n",
        "Itera sobre o dataset para avaliar o desempenho do modelo."
      ]
    },
    {
      "cell_type": "code",
      "execution_count": null,
      "metadata": {
        "id": "SHkyDD_gyoPR"
      },
      "outputs": [],
      "source": [
        "def test_loop(dataloader, model, loss_fn):\n",
        "    # Define o modelo para o modo de avaliação.\n",
        "    model.eval()\n",
        "    size = len(dataloader.dataset)\n",
        "    num_batches = len(dataloader)\n",
        "    test_loss, correct = 0, 0\n",
        "\n",
        "    # Evaluating the model with torch.no_grad() ensures that no gradients are computed during test mode\n",
        "    # also serves to reduce unnecessary gradient computations and memory usage for tensors with requires_grad=True\n",
        "    with torch.no_grad():\n",
        "        for X, y in dataloader:\n",
        "            pred = model(X)\n",
        "            test_loss += loss_fn(pred, y).item()\n",
        "            correct += (pred.argmax(1) == y).type(torch.float).sum().item()\n",
        "\n",
        "    test_loss /= num_batches\n",
        "    correct /= size\n",
        "    print(f\"Test Error: \\n Accuracy: {(100*correct):>0.1f}%, Avg loss: {test_loss:>8f} \\n\")"
      ]
    },
    {
      "cell_type": "markdown",
      "metadata": {
        "id": "DKvN6AqxyoPR"
      },
      "source": [
        "### Função de Perda\n",
        "\n",
        "Função definida para minimizar e, assim, avaliar o desempenho do modelo."
      ]
    },
    {
      "cell_type": "code",
      "execution_count": null,
      "metadata": {
        "id": "5Ojg2IbVyoPS"
      },
      "outputs": [],
      "source": [
        "# Função escolhida: CrossEntropy\n",
        "loss_fn = nn.CrossEntropyLoss()"
      ]
    },
    {
      "cell_type": "markdown",
      "metadata": {
        "id": "masw9eemyoPS"
      },
      "source": [
        "### Otimizadores\n",
        "\n",
        "Processo de ajuste do modelo para reduzir o erro para cada passo do treino."
      ]
    },
    {
      "cell_type": "code",
      "execution_count": null,
      "metadata": {
        "id": "ODN6qcR8yoPS"
      },
      "outputs": [],
      "source": [
        "optimizer = torch.optim.SGD(model.parameters(), lr=learning_rate)"
      ]
    },
    {
      "cell_type": "markdown",
      "metadata": {
        "id": "Ha0MG9LHyoPS"
      },
      "source": [
        "### Treinamento\n",
        "\n",
        "Agrupando todos os passos, temos:"
      ]
    },
    {
      "cell_type": "code",
      "execution_count": null,
      "metadata": {
        "id": "-GQUEAd6yoPS",
        "colab": {
          "base_uri": "https://localhost:8080/"
        },
        "outputId": "62b8fb6b-3c58-4ba0-e903-74b1ebcc393f"
      },
      "outputs": [
        {
          "output_type": "stream",
          "name": "stdout",
          "text": [
            "Epoch 1\n",
            "-------------------------------\n",
            "loss: 2.299226  [   64/60000]\n",
            "loss: 2.283672  [ 6464/60000]\n",
            "loss: 2.268672  [12864/60000]\n",
            "loss: 2.267554  [19264/60000]\n",
            "loss: 2.246444  [25664/60000]\n",
            "loss: 2.218187  [32064/60000]\n",
            "loss: 2.228284  [38464/60000]\n",
            "loss: 2.190271  [44864/60000]\n",
            "loss: 2.188742  [51264/60000]\n",
            "loss: 2.163676  [57664/60000]\n",
            "Test Error: \n",
            " Accuracy: 35.4%, Avg loss: 2.155708 \n",
            "\n",
            "Epoch 2\n",
            "-------------------------------\n",
            "loss: 2.164534  [   64/60000]\n",
            "loss: 2.150726  [ 6464/60000]\n",
            "loss: 2.101444  [12864/60000]\n",
            "loss: 2.127902  [19264/60000]\n",
            "loss: 2.062519  [25664/60000]\n",
            "loss: 2.006952  [32064/60000]\n",
            "loss: 2.037187  [38464/60000]\n",
            "loss: 1.955170  [44864/60000]\n",
            "loss: 1.963729  [51264/60000]\n",
            "loss: 1.899651  [57664/60000]\n",
            "Test Error: \n",
            " Accuracy: 50.7%, Avg loss: 1.897357 \n",
            "\n",
            "Epoch 3\n",
            "-------------------------------\n",
            "loss: 1.924127  [   64/60000]\n",
            "loss: 1.893047  [ 6464/60000]\n",
            "loss: 1.788137  [12864/60000]\n",
            "loss: 1.841850  [19264/60000]\n",
            "loss: 1.710136  [25664/60000]\n",
            "loss: 1.671818  [32064/60000]\n",
            "loss: 1.690715  [38464/60000]\n",
            "loss: 1.594509  [44864/60000]\n",
            "loss: 1.619406  [51264/60000]\n",
            "loss: 1.520790  [57664/60000]\n",
            "Test Error: \n",
            " Accuracy: 59.9%, Avg loss: 1.539224 \n",
            "\n",
            "Epoch 4\n",
            "-------------------------------\n",
            "loss: 1.602269  [   64/60000]\n",
            "loss: 1.564847  [ 6464/60000]\n",
            "loss: 1.426407  [12864/60000]\n",
            "loss: 1.502705  [19264/60000]\n",
            "loss: 1.368912  [25664/60000]\n",
            "loss: 1.378093  [32064/60000]\n",
            "loss: 1.381670  [38464/60000]\n",
            "loss: 1.311340  [44864/60000]\n",
            "loss: 1.342478  [51264/60000]\n",
            "loss: 1.246875  [57664/60000]\n",
            "Test Error: \n",
            " Accuracy: 62.6%, Avg loss: 1.273188 \n",
            "\n",
            "Epoch 5\n",
            "-------------------------------\n",
            "loss: 1.352231  [   64/60000]\n",
            "loss: 1.326292  [ 6464/60000]\n",
            "loss: 1.171041  [12864/60000]\n",
            "loss: 1.276666  [19264/60000]\n",
            "loss: 1.143319  [25664/60000]\n",
            "loss: 1.182797  [32064/60000]\n",
            "loss: 1.188559  [38464/60000]\n",
            "loss: 1.130749  [44864/60000]\n",
            "loss: 1.166907  [51264/60000]\n",
            "loss: 1.083087  [57664/60000]\n",
            "Test Error: \n",
            " Accuracy: 64.2%, Avg loss: 1.105973 \n",
            "\n",
            "Epoch 6\n",
            "-------------------------------\n",
            "loss: 1.182317  [   64/60000]\n",
            "loss: 1.172487  [ 6464/60000]\n",
            "loss: 1.002622  [12864/60000]\n",
            "loss: 1.134301  [19264/60000]\n",
            "loss: 1.002907  [25664/60000]\n",
            "loss: 1.051031  [32064/60000]\n",
            "loss: 1.068827  [38464/60000]\n",
            "loss: 1.014402  [44864/60000]\n",
            "loss: 1.051685  [51264/60000]\n",
            "loss: 0.979880  [57664/60000]\n",
            "Test Error: \n",
            " Accuracy: 65.6%, Avg loss: 0.997405 \n",
            "\n",
            "Epoch 7\n",
            "-------------------------------\n",
            "loss: 1.062972  [   64/60000]\n",
            "loss: 1.071400  [ 6464/60000]\n",
            "loss: 0.886730  [12864/60000]\n",
            "loss: 1.039065  [19264/60000]\n",
            "loss: 0.913411  [25664/60000]\n",
            "loss: 0.957206  [32064/60000]\n",
            "loss: 0.990206  [38464/60000]\n",
            "loss: 0.937826  [44864/60000]\n",
            "loss: 0.970751  [51264/60000]\n",
            "loss: 0.910651  [57664/60000]\n",
            "Test Error: \n",
            " Accuracy: 66.9%, Avg loss: 0.922852 \n",
            "\n",
            "Epoch 8\n",
            "-------------------------------\n",
            "loss: 0.974593  [   64/60000]\n",
            "loss: 1.000901  [ 6464/60000]\n",
            "loss: 0.803225  [12864/60000]\n",
            "loss: 0.971294  [19264/60000]\n",
            "loss: 0.853118  [25664/60000]\n",
            "loss: 0.887655  [32064/60000]\n",
            "loss: 0.935051  [38464/60000]\n",
            "loss: 0.886400  [44864/60000]\n",
            "loss: 0.911553  [51264/60000]\n",
            "loss: 0.860574  [57664/60000]\n",
            "Test Error: \n",
            " Accuracy: 68.0%, Avg loss: 0.868753 \n",
            "\n",
            "Epoch 9\n",
            "-------------------------------\n",
            "loss: 0.906138  [   64/60000]\n",
            "loss: 0.948450  [ 6464/60000]\n",
            "loss: 0.740255  [12864/60000]\n",
            "loss: 0.920463  [19264/60000]\n",
            "loss: 0.809920  [25664/60000]\n",
            "loss: 0.834610  [32064/60000]\n",
            "loss: 0.893458  [38464/60000]\n",
            "loss: 0.850660  [44864/60000]\n",
            "loss: 0.866791  [51264/60000]\n",
            "loss: 0.821896  [57664/60000]\n",
            "Test Error: \n",
            " Accuracy: 69.5%, Avg loss: 0.827590 \n",
            "\n",
            "Epoch 10\n",
            "-------------------------------\n",
            "loss: 0.851059  [   64/60000]\n",
            "loss: 0.907119  [ 6464/60000]\n",
            "loss: 0.690893  [12864/60000]\n",
            "loss: 0.881147  [19264/60000]\n",
            "loss: 0.776942  [25664/60000]\n",
            "loss: 0.793196  [32064/60000]\n",
            "loss: 0.860104  [38464/60000]\n",
            "loss: 0.824557  [44864/60000]\n",
            "loss: 0.831928  [51264/60000]\n",
            "loss: 0.790749  [57664/60000]\n",
            "Test Error: \n",
            " Accuracy: 70.7%, Avg loss: 0.794937 \n",
            "\n",
            "Fim!\n"
          ]
        }
      ],
      "source": [
        "epochs = 10\n",
        "for t in range(epochs):\n",
        "    print(f\"Epoch {t+1}\\n-------------------------------\")\n",
        "    train_loop(train_dataloader, model, loss_fn, optimizer)\n",
        "    test_loop(test_dataloader, model, loss_fn)\n",
        "print(\"Fim!\")"
      ]
    },
    {
      "cell_type": "markdown",
      "metadata": {
        "id": "PSto3oO-yoPS"
      },
      "source": [
        "## Salvar e Carregar os pesos dos modelos\n",
        "\n",
        "Nesta seção será descrita o salvamento de carregamento do modelo desejado."
      ]
    },
    {
      "cell_type": "code",
      "execution_count": null,
      "metadata": {
        "id": "ED7uPRqwyoPS"
      },
      "outputs": [],
      "source": [
        "import torch\n",
        "import torchvision.models as models"
      ]
    },
    {
      "cell_type": "code",
      "execution_count": null,
      "metadata": {
        "id": "J6rCGfcpyoPS",
        "colab": {
          "base_uri": "https://localhost:8080/"
        },
        "outputId": "06396fa8-e0b0-4bf0-eadc-f1e17abd01b2"
      },
      "outputs": [
        {
          "output_type": "stream",
          "name": "stderr",
          "text": [
            "Downloading: \"https://download.pytorch.org/models/vgg16-397923af.pth\" to /root/.cache/torch/hub/checkpoints/vgg16-397923af.pth\n",
            "100%|██████████| 528M/528M [00:06<00:00, 80.0MB/s]\n"
          ]
        }
      ],
      "source": [
        "# Carregando pesos pré-treinados:\n",
        "model = models.vgg16(weights='IMAGENET1K_V1')\n",
        "torch.save(model.state_dict(), 'model_weights.pth')  # Salvando o modelo na máquina"
      ]
    },
    {
      "cell_type": "code",
      "execution_count": null,
      "metadata": {
        "id": "A_-XHpp4yoPS",
        "colab": {
          "base_uri": "https://localhost:8080/"
        },
        "outputId": "2fdd00d0-d521-4a17-ea5a-591dbd421f28"
      },
      "outputs": [
        {
          "output_type": "execute_result",
          "data": {
            "text/plain": [
              "VGG(\n",
              "  (features): Sequential(\n",
              "    (0): Conv2d(3, 64, kernel_size=(3, 3), stride=(1, 1), padding=(1, 1))\n",
              "    (1): ReLU(inplace=True)\n",
              "    (2): Conv2d(64, 64, kernel_size=(3, 3), stride=(1, 1), padding=(1, 1))\n",
              "    (3): ReLU(inplace=True)\n",
              "    (4): MaxPool2d(kernel_size=2, stride=2, padding=0, dilation=1, ceil_mode=False)\n",
              "    (5): Conv2d(64, 128, kernel_size=(3, 3), stride=(1, 1), padding=(1, 1))\n",
              "    (6): ReLU(inplace=True)\n",
              "    (7): Conv2d(128, 128, kernel_size=(3, 3), stride=(1, 1), padding=(1, 1))\n",
              "    (8): ReLU(inplace=True)\n",
              "    (9): MaxPool2d(kernel_size=2, stride=2, padding=0, dilation=1, ceil_mode=False)\n",
              "    (10): Conv2d(128, 256, kernel_size=(3, 3), stride=(1, 1), padding=(1, 1))\n",
              "    (11): ReLU(inplace=True)\n",
              "    (12): Conv2d(256, 256, kernel_size=(3, 3), stride=(1, 1), padding=(1, 1))\n",
              "    (13): ReLU(inplace=True)\n",
              "    (14): Conv2d(256, 256, kernel_size=(3, 3), stride=(1, 1), padding=(1, 1))\n",
              "    (15): ReLU(inplace=True)\n",
              "    (16): MaxPool2d(kernel_size=2, stride=2, padding=0, dilation=1, ceil_mode=False)\n",
              "    (17): Conv2d(256, 512, kernel_size=(3, 3), stride=(1, 1), padding=(1, 1))\n",
              "    (18): ReLU(inplace=True)\n",
              "    (19): Conv2d(512, 512, kernel_size=(3, 3), stride=(1, 1), padding=(1, 1))\n",
              "    (20): ReLU(inplace=True)\n",
              "    (21): Conv2d(512, 512, kernel_size=(3, 3), stride=(1, 1), padding=(1, 1))\n",
              "    (22): ReLU(inplace=True)\n",
              "    (23): MaxPool2d(kernel_size=2, stride=2, padding=0, dilation=1, ceil_mode=False)\n",
              "    (24): Conv2d(512, 512, kernel_size=(3, 3), stride=(1, 1), padding=(1, 1))\n",
              "    (25): ReLU(inplace=True)\n",
              "    (26): Conv2d(512, 512, kernel_size=(3, 3), stride=(1, 1), padding=(1, 1))\n",
              "    (27): ReLU(inplace=True)\n",
              "    (28): Conv2d(512, 512, kernel_size=(3, 3), stride=(1, 1), padding=(1, 1))\n",
              "    (29): ReLU(inplace=True)\n",
              "    (30): MaxPool2d(kernel_size=2, stride=2, padding=0, dilation=1, ceil_mode=False)\n",
              "  )\n",
              "  (avgpool): AdaptiveAvgPool2d(output_size=(7, 7))\n",
              "  (classifier): Sequential(\n",
              "    (0): Linear(in_features=25088, out_features=4096, bias=True)\n",
              "    (1): ReLU(inplace=True)\n",
              "    (2): Dropout(p=0.5, inplace=False)\n",
              "    (3): Linear(in_features=4096, out_features=4096, bias=True)\n",
              "    (4): ReLU(inplace=True)\n",
              "    (5): Dropout(p=0.5, inplace=False)\n",
              "    (6): Linear(in_features=4096, out_features=1000, bias=True)\n",
              "  )\n",
              ")"
            ]
          },
          "metadata": {},
          "execution_count": 40
        }
      ],
      "source": [
        "# Carregando modelo salvo na maquina:\n",
        "model = models.vgg16() # Pesos não especificado\n",
        "model.load_state_dict(torch.load('model_weights.pth'))\n",
        "model.eval()"
      ]
    }
  ],
  "metadata": {
    "kernelspec": {
      "display_name": "Python 3",
      "name": "python3"
    },
    "language_info": {
      "codemirror_mode": {
        "name": "ipython",
        "version": 3
      },
      "file_extension": ".py",
      "mimetype": "text/x-python",
      "name": "python",
      "nbconvert_exporter": "python",
      "pygments_lexer": "ipython3",
      "version": "3.11.4"
    },
    "colab": {
      "provenance": [],
      "gpuType": "T4"
    },
    "accelerator": "GPU"
  },
  "nbformat": 4,
  "nbformat_minor": 0
}