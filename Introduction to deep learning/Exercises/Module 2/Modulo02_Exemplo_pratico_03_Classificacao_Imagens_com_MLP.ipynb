{
  "nbformat": 4,
  "nbformat_minor": 0,
  "metadata": {
    "colab": {
      "provenance": [],
      "gpuType": "T4"
    },
    "kernelspec": {
      "name": "python3",
      "display_name": "Python 3"
    },
    "language_info": {
      "name": "python"
    },
    "accelerator": "GPU"
  },
  "cells": [
    {
      "cell_type": "markdown",
      "source": [
        "# Exemplo 01 - Classificação de Imagens com MLP\n",
        "## Curso de Deep Learning"
      ],
      "metadata": {
        "id": "MO1IoXePNHCk"
      }
    },
    {
      "cell_type": "markdown",
      "source": [
        "## Instalações e imports"
      ],
      "metadata": {
        "id": "tK3-9OiINZsS"
      }
    },
    {
      "cell_type": "code",
      "execution_count": null,
      "metadata": {
        "id": "hYLxzvHiNEPa"
      },
      "outputs": [],
      "source": [
        "%%capture\n",
        "!pip install torchsummary"
      ]
    },
    {
      "cell_type": "code",
      "source": [
        "# modelagem e dados\n",
        "import torch\n",
        "from torchvision import transforms, datasets\n",
        "from torch import nn, optim\n",
        "from torch.utils import data\n",
        "\n",
        "\n",
        "# avaliação de modelos\n",
        "from sklearn.metrics import confusion_matrix, ConfusionMatrixDisplay\n",
        "from sklearn.metrics import classification_report\n",
        "\n",
        "# plotting e visualização\n",
        "from torchsummary import summary\n",
        "import matplotlib.pyplot as plt\n",
        "import seaborn as sns\n",
        "sns.set()"
      ],
      "metadata": {
        "id": "g2-mLIjYNhoB"
      },
      "execution_count": null,
      "outputs": []
    },
    {
      "cell_type": "markdown",
      "source": [
        "## Dataset e DataLoaders"
      ],
      "metadata": {
        "id": "gBm6NcMuN9KX"
      }
    },
    {
      "cell_type": "markdown",
      "source": [
        "O PyTorch possui duas principais unidades na utilização de base de dados:\n",
        "- Dataset: Agrupa os dados, guardando informações e contendo funções para carregamento de instâncias\n",
        "- DataLoader: Cria um iterador que carrega os dados em lotes (batch) estruturados além de ser responsável por (opcionalmente) randomizar a ordem de carregamento"
      ],
      "metadata": {
        "id": "_YUMHPgSODve"
      }
    },
    {
      "cell_type": "markdown",
      "source": [
        "A dataset utilizada para esse exemplo é MNIST: um \"Hello, world!\" para redes neurais caracterizando um problema de classificação de imagens de dígitos em preto e branco. São 70000 imagens no total com formato 28x28 pixels."
      ],
      "metadata": {
        "id": "Tv83yGV1O0J9"
      }
    },
    {
      "cell_type": "code",
      "source": [
        "# As imagens são carregadas internamente com uma biblioteca de processamento de\n",
        "# imagens e precisam ser convertidas para um formato apropriado (ToTensor)\n",
        "transform = transforms.ToTensor()"
      ],
      "metadata": {
        "id": "cX-hejmUPSWi"
      },
      "execution_count": null,
      "outputs": []
    },
    {
      "cell_type": "code",
      "source": [
        "print(datasets.MNIST.__doc__)"
      ],
      "metadata": {
        "colab": {
          "base_uri": "https://localhost:8080/"
        },
        "id": "UaNP7Rf1P41Q",
        "outputId": "0c10cef8-82c0-46f5-977e-5498b97ef45d"
      },
      "execution_count": null,
      "outputs": [
        {
          "output_type": "stream",
          "name": "stdout",
          "text": [
            "`MNIST <http://yann.lecun.com/exdb/mnist/>`_ Dataset.\n",
            "\n",
            "    Args:\n",
            "        root (string): Root directory of dataset where ``MNIST/raw/train-images-idx3-ubyte``\n",
            "            and  ``MNIST/raw/t10k-images-idx3-ubyte`` exist.\n",
            "        train (bool, optional): If True, creates dataset from ``train-images-idx3-ubyte``,\n",
            "            otherwise from ``t10k-images-idx3-ubyte``.\n",
            "        download (bool, optional): If True, downloads the dataset from the internet and\n",
            "            puts it in root directory. If dataset is already downloaded, it is not\n",
            "            downloaded again.\n",
            "        transform (callable, optional): A function/transform that  takes in an PIL image\n",
            "            and returns a transformed version. E.g, ``transforms.RandomCrop``\n",
            "        target_transform (callable, optional): A function/transform that takes in the\n",
            "            target and transforms it.\n",
            "    \n"
          ]
        }
      ]
    },
    {
      "cell_type": "code",
      "source": [
        "train_ds = datasets.MNIST(\n",
        "    root = \".\",\n",
        "    train = True,\n",
        "    download = True,\n",
        "    transform = transform\n",
        ")\n",
        "\n",
        "# Criar um conjunto de validação a partir de um subconjunto aleatório\n",
        "# com 15% dos dados de treino originais\n",
        "length = len(train_ds)\n",
        "len_val = int(0.15 * length)\n",
        "len_train = length - len_val\n",
        "train_ds, val_ds = data.random_split(train_ds, [len_train, len_val])\n",
        "\n",
        "test_ds = datasets.MNIST(\n",
        "    root = \".\",\n",
        "    train = False,\n",
        "    download = True,\n",
        "    transform = transform\n",
        ")"
      ],
      "metadata": {
        "colab": {
          "base_uri": "https://localhost:8080/"
        },
        "id": "gujr1aGxN8QP",
        "outputId": "e32a13fd-53d0-4e49-90ec-f810190088a3"
      },
      "execution_count": null,
      "outputs": [
        {
          "output_type": "stream",
          "name": "stdout",
          "text": [
            "Downloading http://yann.lecun.com/exdb/mnist/train-images-idx3-ubyte.gz\n",
            "Downloading http://yann.lecun.com/exdb/mnist/train-images-idx3-ubyte.gz to ./MNIST/raw/train-images-idx3-ubyte.gz\n"
          ]
        },
        {
          "output_type": "stream",
          "name": "stderr",
          "text": [
            "100%|██████████| 9912422/9912422 [00:00<00:00, 328664347.10it/s]"
          ]
        },
        {
          "output_type": "stream",
          "name": "stdout",
          "text": [
            "Extracting ./MNIST/raw/train-images-idx3-ubyte.gz to ./MNIST/raw\n"
          ]
        },
        {
          "output_type": "stream",
          "name": "stderr",
          "text": [
            "\n"
          ]
        },
        {
          "output_type": "stream",
          "name": "stdout",
          "text": [
            "\n",
            "Downloading http://yann.lecun.com/exdb/mnist/train-labels-idx1-ubyte.gz\n",
            "Downloading http://yann.lecun.com/exdb/mnist/train-labels-idx1-ubyte.gz to ./MNIST/raw/train-labels-idx1-ubyte.gz\n"
          ]
        },
        {
          "output_type": "stream",
          "name": "stderr",
          "text": [
            "100%|██████████| 28881/28881 [00:00<00:00, 89730143.57it/s]\n"
          ]
        },
        {
          "output_type": "stream",
          "name": "stdout",
          "text": [
            "Extracting ./MNIST/raw/train-labels-idx1-ubyte.gz to ./MNIST/raw\n",
            "\n",
            "Downloading http://yann.lecun.com/exdb/mnist/t10k-images-idx3-ubyte.gz\n",
            "Downloading http://yann.lecun.com/exdb/mnist/t10k-images-idx3-ubyte.gz to ./MNIST/raw/t10k-images-idx3-ubyte.gz\n"
          ]
        },
        {
          "output_type": "stream",
          "name": "stderr",
          "text": [
            "100%|██████████| 1648877/1648877 [00:00<00:00, 203840232.16it/s]"
          ]
        },
        {
          "output_type": "stream",
          "name": "stdout",
          "text": [
            "Extracting ./MNIST/raw/t10k-images-idx3-ubyte.gz to ./MNIST/raw\n",
            "\n",
            "Downloading http://yann.lecun.com/exdb/mnist/t10k-labels-idx1-ubyte.gz\n",
            "Downloading http://yann.lecun.com/exdb/mnist/t10k-labels-idx1-ubyte.gz to ./MNIST/raw/t10k-labels-idx1-ubyte.gz\n"
          ]
        },
        {
          "output_type": "stream",
          "name": "stderr",
          "text": [
            "\n",
            "100%|██████████| 4542/4542 [00:00<00:00, 15240423.01it/s]\n"
          ]
        },
        {
          "output_type": "stream",
          "name": "stdout",
          "text": [
            "Extracting ./MNIST/raw/t10k-labels-idx1-ubyte.gz to ./MNIST/raw\n",
            "\n"
          ]
        }
      ]
    },
    {
      "cell_type": "markdown",
      "source": [
        "Determinar tamanhos dos lotes"
      ],
      "metadata": {
        "id": "7vFq42seRKzF"
      }
    },
    {
      "cell_type": "code",
      "source": [
        "BATCH_SIZE_TRAIN = 64\n",
        "BATCH_SIZE_EVAL = 128"
      ],
      "metadata": {
        "id": "KGLorfB3Q7_v"
      },
      "execution_count": null,
      "outputs": []
    },
    {
      "cell_type": "markdown",
      "source": [
        "Criação dos dataloaders"
      ],
      "metadata": {
        "id": "pIil5KEVRRgV"
      }
    },
    {
      "cell_type": "code",
      "source": [
        "train_dl = data.DataLoader(\n",
        "    train_ds, batch_size=BATCH_SIZE_TRAIN, shuffle=True,\n",
        "    num_workers=2, pin_memory=True\n",
        ")\n",
        "\n",
        "val_dl = data.DataLoader(\n",
        "    val_ds, batch_size=BATCH_SIZE_EVAL, shuffle=True,\n",
        "    num_workers=2, pin_memory=True\n",
        ")\n",
        "\n",
        "test_dl = data.DataLoader(\n",
        "    test_ds, batch_size=BATCH_SIZE_EVAL, shuffle=True,\n",
        "    num_workers=2, pin_memory=True\n",
        ")"
      ],
      "metadata": {
        "id": "1_BBOnh6QxaH"
      },
      "execution_count": null,
      "outputs": []
    },
    {
      "cell_type": "markdown",
      "source": [
        "### Visualizando a base de dados"
      ],
      "metadata": {
        "id": "cePbriQxRuKl"
      }
    },
    {
      "cell_type": "code",
      "source": [
        "instances, targets = next(iter(test_dl))"
      ],
      "metadata": {
        "id": "gKhT_rrhRrk1"
      },
      "execution_count": null,
      "outputs": []
    },
    {
      "cell_type": "code",
      "source": [
        "instances.shape, targets.shape"
      ],
      "metadata": {
        "colab": {
          "base_uri": "https://localhost:8080/"
        },
        "id": "IMmk9E9LRycN",
        "outputId": "de102f52-517c-4948-8b57-0664bfd32cf6"
      },
      "execution_count": null,
      "outputs": [
        {
          "output_type": "execute_result",
          "data": {
            "text/plain": [
              "(torch.Size([128, 1, 28, 28]), torch.Size([128]))"
            ]
          },
          "metadata": {},
          "execution_count": 9
        }
      ]
    },
    {
      "cell_type": "code",
      "source": [
        "w = 10\n",
        "fig, ax = plt.subplots(w, w, figsize=(7, 9))\n",
        "for i in range(w):\n",
        "  for j in range(w):\n",
        "    ax[i][j].imshow(instances[i * w + j].permute(1, 2, 0), cmap=\"gray\", interpolation=\"None\")\n",
        "    label = targets[i * w + j].item()\n",
        "    ax[i][j].set_title(label)\n",
        "    ax[i][j].set_xticks([])\n",
        "    ax[i][j].set_yticks([])"
      ],
      "metadata": {
        "colab": {
          "base_uri": "https://localhost:8080/",
          "height": 739
        },
        "id": "CK_VLoQYR0cF",
        "outputId": "57d2db7c-365b-4cec-a547-b97ccd73cfeb"
      },
      "execution_count": null,
      "outputs": [
        {
          "output_type": "display_data",
          "data": {
            "text/plain": [
              "<Figure size 700x900 with 100 Axes>"
            ],
            "image/png": "[encoded data removed]"
          },
          "metadata": {}
        }
      ]
    },
    {
      "cell_type": "markdown",
      "source": [
        "## Criação de modelo"
      ],
      "metadata": {
        "id": "jmsX92mkSgr0"
      }
    },
    {
      "cell_type": "markdown",
      "source": [
        "Em PyTorch, modelos são normalmente criados utilizando herança da classe ```torch.nn.Module``` com as camadas disponíveis para utilização também estando disponíveis primariamente através do módulo ```torch.nn```."
      ],
      "metadata": {
        "id": "uKBXOnsRSjD8"
      }
    },
    {
      "cell_type": "markdown",
      "source": [
        "Na primeira camada precisamos transformas as imagens do formato 1x28x28 para vetores de tamanho 28*28 (ou seja, 784). Para isso, utilizamos a classe Flatten.\n",
        "\n",
        "Após isso, utilizamos objetos do tipo nn.Linear para criar as camadas do MLP. Você pode criar variáveis internas separadas para cada camada ou utilizar a classe Sequential para agrupar sequecialmente as camadas. Devemos lembrar de adicionar funções de ativação entre cada Linear (aqui utilizaremos a função ReLU)."
      ],
      "metadata": {
        "id": "EnrRQQV8UZhQ"
      }
    },
    {
      "cell_type": "markdown",
      "source": [
        "A função de ativação para a saída (no caso da classificação com mais de 2 classes, Softmax) é opcional nesse caso. A função de perda a ser utilizada já possui a aplicação de tal ativação embutida."
      ],
      "metadata": {
        "id": "JpxjlllZVyNZ"
      }
    },
    {
      "cell_type": "markdown",
      "source": [
        "---"
      ],
      "metadata": {
        "id": "YQlBMrdLdtRz"
      }
    },
    {
      "cell_type": "markdown",
      "source": [
        "Extraído da docstring da classe Linear:\n",
        "\n",
        "Argumentos:\n",
        "- in_features: size of each input sample\n",
        "- out_features: size of each output sample\n",
        "- bias: If set to ``False``, the layer will not learn an additive bias.      Default: ``True``\n",
        "\n",
        "Formato:\n",
        "- Input: $(*, H_{in})$ where $*$ means any number of\n",
        "  dimensions including none and $H_{in} = \\text{in_features}$.\n",
        "- Output: $(*, H_{out})$ where all but the last dimension\n",
        "  are the same shape as the input and $H_{out} = \\text{out_features}$.\n",
        "\n",
        "Atributos:\n",
        "- weight: the learnable weights of the module of shape\n",
        "   $(\\text{out_features}, \\text{in_features})$. The values are\n",
        "   initialized from $\\mathcal{U}(-\\sqrt{k}, \\sqrt{k})$, where\n",
        "$k = \\frac{1}{\\text{in_features}}$\n",
        "- bias:   the learnable bias of the module of shape $(\\text{out_features})$.\n",
        "   If `bias` is ``True``, the values are initialized from\n",
        "   $\\mathcal{U}(-\\sqrt{k}, \\sqrt{k})$ where $k = \\frac{1}{\\text{in_features}}$\n",
        "\n"
      ],
      "metadata": {
        "id": "Xq-ATobvcr6r"
      }
    },
    {
      "cell_type": "code",
      "source": [
        "class MyFirstModel(nn.Module):\n",
        "  def __init__(self, n_classes):\n",
        "    super().__init__() # necessário sempre\n",
        "\n",
        "    self.flatten = nn.Flatten()\n",
        "\n",
        "    self.mlp = nn.Sequential(\n",
        "        nn.Linear(784, 512),\n",
        "        nn.ReLU(),\n",
        "        nn.Linear(512, 10)\n",
        "    )\n",
        "\n",
        "  # Esse método é necessário. Executada o passo feed-forward da computação da\n",
        "  # rede neural.\n",
        "  def forward(self, x):\n",
        "    x_flat = self.flatten(x)\n",
        "    logits = self.mlp(x_flat)\n",
        "    return logits"
      ],
      "metadata": {
        "id": "tsTGplE8SA89"
      },
      "execution_count": null,
      "outputs": []
    },
    {
      "cell_type": "markdown",
      "source": [
        "Testando"
      ],
      "metadata": {
        "id": "8eL-7-mpVhwY"
      }
    },
    {
      "cell_type": "code",
      "source": [
        "test_model = MyFirstModel(10)\n",
        "test_model(instances).shape"
      ],
      "metadata": {
        "colab": {
          "base_uri": "https://localhost:8080/"
        },
        "id": "cur1hj-DVeS_",
        "outputId": "fa51f34b-2274-4e74-b441-c4cc6a6de1d7"
      },
      "execution_count": null,
      "outputs": [
        {
          "output_type": "execute_result",
          "data": {
            "text/plain": [
              "torch.Size([128, 10])"
            ]
          },
          "metadata": {},
          "execution_count": 12
        }
      ]
    },
    {
      "cell_type": "markdown",
      "source": [
        "## Treinamento da rede"
      ],
      "metadata": {
        "id": "vgYk78vwWFxj"
      }
    },
    {
      "cell_type": "markdown",
      "source": [
        "O loop de treinamento pode ser descrito pelo seguinte procedimento\n",
        "```\n",
        "para cada epoca:\n",
        "    para cada (lote, rotulos) no dataloader de treino:\n",
        "        mover o lote e os rotulos para o mesmo dispositivo do modelo (GPU ou CPU)\n",
        "\n",
        "        fazer previsão com o modelo\n",
        "\n",
        "        zerar os gradientes para evitar acumular\n",
        "\n",
        "        calcular função de perda\n",
        "\n",
        "        retropropagar perda (backpropagation) para obter gradientes\n",
        "\n",
        "        aplicar a atualização dos parametros da rede baseado nos gradientes\n",
        "    \n",
        "    executar loop de avaliação nos dados de validação\n",
        "```"
      ],
      "metadata": {
        "id": "-U6qJSjRWIxb"
      }
    },
    {
      "cell_type": "markdown",
      "source": [
        "### O modelo e o dispositivo"
      ],
      "metadata": {
        "id": "Kri_rd2bXhi5"
      }
    },
    {
      "cell_type": "markdown",
      "source": [
        "```cuda.is_avaliable``` checa a disponibilidade da GPU"
      ],
      "metadata": {
        "id": "P3odqU4MXuEz"
      }
    },
    {
      "cell_type": "code",
      "source": [
        "device = torch.device(\"cuda\") if torch.cuda.is_available() else torch.device(\"cpu\")\n",
        "device"
      ],
      "metadata": {
        "colab": {
          "base_uri": "https://localhost:8080/"
        },
        "id": "j6oP2pXqVr6K",
        "outputId": "adde4b55-9260-40f4-bbda-c35db80ed9fd"
      },
      "execution_count": null,
      "outputs": [
        {
          "output_type": "execute_result",
          "data": {
            "text/plain": [
              "device(type='cuda')"
            ]
          },
          "metadata": {},
          "execution_count": 13
        }
      ]
    },
    {
      "cell_type": "markdown",
      "source": [
        "O modelo\n",
        "\n",
        "```some_module.to(device)``` move o módulo em questão para o dispositivo especificado."
      ],
      "metadata": {
        "id": "0NqqM-ChX27K"
      }
    },
    {
      "cell_type": "code",
      "source": [
        "classifier = MyFirstModel(10).to(device)"
      ],
      "metadata": {
        "id": "K5QERVQGXr7a"
      },
      "execution_count": null,
      "outputs": []
    },
    {
      "cell_type": "code",
      "source": [
        "summary(classifier, input_size=(1, 28, 28), batch_size=BATCH_SIZE_TRAIN, device=device.type)"
      ],
      "metadata": {
        "colab": {
          "base_uri": "https://localhost:8080/"
        },
        "id": "AEbIImqPYLn8",
        "outputId": "92956121-1269-4cf7-ba2c-96f36f048f22"
      },
      "execution_count": null,
      "outputs": [
        {
          "output_type": "stream",
          "name": "stdout",
          "text": [
            "----------------------------------------------------------------\n",
            "        Layer (type)               Output Shape         Param #\n",
            "================================================================\n",
            "           Flatten-1                  [64, 784]               0\n",
            "            Linear-2                  [64, 512]         401,920\n",
            "              ReLU-3                  [64, 512]               0\n",
            "            Linear-4                   [64, 10]           5,130\n",
            "================================================================\n",
            "Total params: 407,050\n",
            "Trainable params: 407,050\n",
            "Non-trainable params: 0\n",
            "----------------------------------------------------------------\n",
            "Input size (MB): 0.19\n",
            "Forward/backward pass size (MB): 0.89\n",
            "Params size (MB): 1.55\n",
            "Estimated Total Size (MB): 2.63\n",
            "----------------------------------------------------------------\n"
          ]
        }
      ]
    },
    {
      "cell_type": "markdown",
      "source": [
        "### A função de perda e o otimizador"
      ],
      "metadata": {
        "id": "Ni-mQuKkYdok"
      }
    },
    {
      "cell_type": "markdown",
      "source": [
        "A função de perda a ser utiliza é a entropia cruzada\n",
        "\n",
        "$$\\mathcal{l}(y_o, p_o)=-\\sum_{c=1}^Cy_{o,c}\\log(p_{o,c})$$\n",
        "onde,\n",
        "\n",
        "$C$ é o número total de classes\n",
        "\n",
        "$y_{o, c}$ é um indicador (1 se o rótulo da instância $o$ for $c$, senão 0)\n",
        "\n",
        "$p_{o, c}$ é a probabilidade da classe $c$ predita para o modelo $o$\n",
        "\n",
        "\\\n",
        "\n",
        "*Nota: a descrição acima considera $p$ como sendo a saída do modelo após aplicada a softmax. Além disso, considera apenas uma instância (o valor final da perda é a soma ou, mais comumente, a média por todo o lote).*"
      ],
      "metadata": {
        "id": "L4tMZyHYYjWm"
      }
    },
    {
      "cell_type": "code",
      "source": [
        "loss_fn = nn.CrossEntropyLoss()"
      ],
      "metadata": {
        "id": "QqOzaGB4YNs0"
      },
      "execution_count": null,
      "outputs": []
    },
    {
      "cell_type": "markdown",
      "source": [
        "O otimizador escolhido é o Adam. Mais sobre otimizadores e sobre o otimizador em questão pode ser lido na [documentação do PyTorch](https://pytorch.org/docs/stable/optim.html)."
      ],
      "metadata": {
        "id": "nVOkwK7FbIOY"
      }
    },
    {
      "cell_type": "markdown",
      "source": [
        "Extraído da docstring do otimizador Adam (simplificado de acordo com o escopo do exemplo):\n",
        "\n",
        "Argumentos:\n",
        "- params (iterable): iterable of parameters to optimize or dicts defining parameter groups\n",
        "- lr (float, optional): learning rate (default: 1e-3)\n"
      ],
      "metadata": {
        "id": "ga0PGAO_cc6f"
      }
    },
    {
      "cell_type": "code",
      "source": [
        "LEARNING_RATE = 1e-4"
      ],
      "metadata": {
        "id": "9XklTlEae2zz"
      },
      "execution_count": null,
      "outputs": []
    },
    {
      "cell_type": "code",
      "source": [
        "optimizer = optim.Adam(params=classifier.parameters(), lr=LEARNING_RATE)"
      ],
      "metadata": {
        "id": "g5dWchPLbHcp"
      },
      "execution_count": null,
      "outputs": []
    },
    {
      "cell_type": "markdown",
      "source": [
        "### Executando o treinamento"
      ],
      "metadata": {
        "id": "KaL5DKspe8Rb"
      }
    },
    {
      "cell_type": "code",
      "source": [
        "EPOCHS = 25 # número total de épocas"
      ],
      "metadata": {
        "id": "ix_mEFiMe7Xd"
      },
      "execution_count": null,
      "outputs": []
    },
    {
      "cell_type": "markdown",
      "source": [
        "Utilitário para métricas e perdas"
      ],
      "metadata": {
        "id": "lFIGBsRajk0O"
      }
    },
    {
      "cell_type": "code",
      "source": [
        "class AverageMeter:\n",
        "    \"\"\"Computes and stores the average and current value\"\"\"\n",
        "    # fonte: https://kaiyangzhou.github.io/deep-person-reid/_modules/torchreid/utils/avgmeter.html#AverageMeter\n",
        "    def __init__(self):\n",
        "        self.reset()\n",
        "\n",
        "    def reset(self):\n",
        "        self.avg = 0\n",
        "        self.sum = 0\n",
        "        self.count = 0\n",
        "\n",
        "    def update(self, val, n=1):\n",
        "        self.sum += val * n\n",
        "        self.count += n\n",
        "        self.avg = self.sum / self.count"
      ],
      "metadata": {
        "id": "XzNaD8iXft3k"
      },
      "execution_count": null,
      "outputs": []
    },
    {
      "cell_type": "markdown",
      "source": [
        "Loop de treino"
      ],
      "metadata": {
        "id": "dPGvY8iXjpgF"
      }
    },
    {
      "cell_type": "code",
      "source": [
        "def train_step(model, train_dl, loss_fn, optimizer, device):\n",
        "  # ativar modo de treino\n",
        "  model.train()\n",
        "\n",
        "  train_loss = AverageMeter()\n",
        "  for train_instances, instance_labels in train_dl:\n",
        "    # mover o lote e os rotulos para o mesmo dispositivo do modelo\n",
        "    train_instances = train_instances.to(device)\n",
        "    instance_labels = instance_labels.to(device)\n",
        "\n",
        "    # fazer previsão com o modelo\n",
        "    logits = classifier(train_instances)\n",
        "\n",
        "    # zerar os gradientes para evitar acumular\n",
        "    optimizer.zero_grad()\n",
        "\n",
        "    # calcular função de perda\n",
        "    loss = loss_fn(logits, instance_labels)\n",
        "    train_loss.update(loss.item(), len(train_instances))\n",
        "\n",
        "    # retropropagar perda (backpropagation) para obter gradientes\n",
        "    loss.backward()\n",
        "\n",
        "    # aplicar a atualização dos parametros da rede baseado nos gradientes\n",
        "    optimizer.step()\n",
        "  return train_loss.avg"
      ],
      "metadata": {
        "id": "rAEZmUjkfG6c"
      },
      "execution_count": null,
      "outputs": []
    },
    {
      "cell_type": "markdown",
      "source": [
        "Loop de validação"
      ],
      "metadata": {
        "id": "SDIQuKOTjrVf"
      }
    },
    {
      "cell_type": "code",
      "source": [
        "def validation_step(model, val_dl, loss_fn, device):\n",
        "  # ativar modo de avaliação\n",
        "  model.eval()\n",
        "\n",
        "  val_loss = AverageMeter()\n",
        "  # desativar computação de gradientes\n",
        "  with torch.no_grad():\n",
        "    for val_instances, instance_labels in val_dl:\n",
        "      # mover o lote e os rotulos para o mesmo dispositivo do modelo\n",
        "      val_instances = val_instances.to(device)\n",
        "      instance_labels = instance_labels.to(device)\n",
        "\n",
        "      # fazer previsão com o modelo\n",
        "      logits = classifier(val_instances)\n",
        "\n",
        "      # calcular função de perda\n",
        "      loss = loss_fn(logits, instance_labels)\n",
        "      val_loss.update(loss.item(), len(val_instances))\n",
        "  return val_loss.avg"
      ],
      "metadata": {
        "id": "fE1G3VMaikdV"
      },
      "execution_count": null,
      "outputs": []
    },
    {
      "cell_type": "markdown",
      "source": [
        "Rodando o treinamento"
      ],
      "metadata": {
        "id": "tHUbGNrPjhXo"
      }
    },
    {
      "cell_type": "code",
      "source": [
        "history = {\n",
        "    \"train_loss\": [],\n",
        "    \"val_loss\": []\n",
        "}"
      ],
      "metadata": {
        "id": "yYxulC-RjuKX"
      },
      "execution_count": null,
      "outputs": []
    },
    {
      "cell_type": "code",
      "source": [
        "for epoch in range(EPOCHS):\n",
        "  train_loss = train_step(classifier, train_dl, loss_fn, optimizer, device)\n",
        "  val_loss = validation_step(classifier, val_dl, loss_fn, device)\n",
        "\n",
        "  history[\"train_loss\"].append(train_loss)\n",
        "  history[\"val_loss\"].append(val_loss)\n",
        "\n",
        "  print(f\"Época [{epoch + 1}/{EPOCHS}]\")\n",
        "  print(\"-\" * 35)\n",
        "  print(f\"Train loss: {round(train_loss, 6):<7}\")\n",
        "  print(f\"Valid. loss: {round(val_loss, 6):<7}\\n\")"
      ],
      "metadata": {
        "colab": {
          "base_uri": "https://localhost:8080/"
        },
        "id": "IXQ8gMTKhbnH",
        "outputId": "d601b850-eef2-4fa0-e695-5092ad783a11"
      },
      "execution_count": null,
      "outputs": [
        {
          "output_type": "stream",
          "name": "stdout",
          "text": [
            "9000\n",
            "Época [1/25]\n",
            "-----------------------------------\n",
            "Valid. loss: 0.077328\n",
            "\n"
          ]
        }
      ]
    },
    {
      "cell_type": "code",
      "source": [
        "fig = plt.figure()\n",
        "plt.title(\"Cross entropy loss\")\n",
        "plt.plot(history[\"train_loss\"], c=\"g\", label=\"train\")\n",
        "plt.plot(history[\"val_loss\"], c=\"r\", label=\"valid\")\n",
        "plt.legend()"
      ],
      "metadata": {
        "colab": {
          "base_uri": "https://localhost:8080/",
          "height": 474
        },
        "id": "v4A8Hlv-kkKP",
        "outputId": "af3a5e1e-53bf-40da-b6b8-510a520c6640"
      },
      "execution_count": null,
      "outputs": [
        {
          "output_type": "execute_result",
          "data": {
            "text/plain": [
              "<matplotlib.legend.Legend at 0x7e05957f59f0>"
            ]
          },
          "metadata": {},
          "execution_count": 29
        },
        {
          "output_type": "display_data",
          "data": {
            "text/plain": [
              "<Figure size 640x480 with 1 Axes>"
            ],
            "image/png": "[encoded data removed]"
          },
          "metadata": {}
        }
      ]
    },
    {
      "cell_type": "markdown",
      "source": [
        "## Testando e avaliando o modelo"
      ],
      "metadata": {
        "id": "YMAmFswIrDNT"
      }
    },
    {
      "cell_type": "markdown",
      "source": [
        "Loop de teste"
      ],
      "metadata": {
        "id": "lZKT6VRcr-Mh"
      }
    },
    {
      "cell_type": "code",
      "source": [
        "all_probs = []\n",
        "all_preds = []\n",
        "all_targets = []\n",
        "\n",
        "total_corrects = 0\n",
        "total_n = 0\n",
        "classifier.eval()\n",
        "for test_instances, instance_labels in test_dl:\n",
        "    test_instances = test_instances.to(device)\n",
        "    instance_labels = instance_labels.to(device)\n",
        "\n",
        "    with torch.no_grad():\n",
        "        logits = classifier(test_instances)\n",
        "    probabilities = nn.functional.softmax(logits, 1)\n",
        "    all_probs.append(probabilities.cpu())\n",
        "    preds = torch.argmax(probabilities, 1)\n",
        "\n",
        "    total_corrects += (preds == instance_labels).sum().item()\n",
        "    total_n += len(test_instances)\n",
        "\n",
        "    all_preds.append(preds.unsqueeze(-1))\n",
        "    all_targets.append(instance_labels.unsqueeze(-1))\n",
        "\n",
        "\n",
        "preds = torch.cat(all_preds).squeeze(-1).cpu()\n",
        "targets = torch.cat(all_targets).squeeze(-1).cpu()"
      ],
      "metadata": {
        "id": "8xMAmwpzn7dy"
      },
      "execution_count": null,
      "outputs": []
    },
    {
      "cell_type": "markdown",
      "source": [
        "A matriz de confusão (quanto mais preenchida a diagonal principal, melhor)"
      ],
      "metadata": {
        "id": "5kTjYqF4r_uB"
      }
    },
    {
      "cell_type": "code",
      "source": [
        "fig, ax = plt.subplots(1, 1, figsize=(7, 7))\n",
        "fig.suptitle(\"Matriz de confusão\")\n",
        "ax.grid(False)\n",
        "\n",
        "labels = list(str(i) for i in range(10))\n",
        "\n",
        "cm = confusion_matrix(targets, preds)\n",
        "cm_display = ConfusionMatrixDisplay(cm, display_labels=labels)\n",
        "cm_display.plot(ax=ax, xticks_rotation=35.0)"
      ],
      "metadata": {
        "colab": {
          "base_uri": "https://localhost:8080/",
          "height": 672
        },
        "id": "Rr_eq5CRrba8",
        "outputId": "a8c0c2b2-d1dc-4986-b797-3eb84534c499"
      },
      "execution_count": null,
      "outputs": [
        {
          "output_type": "execute_result",
          "data": {
            "text/plain": [
              "<sklearn.metrics._plot.confusion_matrix.ConfusionMatrixDisplay at 0x7e05945ead70>"
            ]
          },
          "metadata": {},
          "execution_count": 31
        },
        {
          "output_type": "display_data",
          "data": {
            "text/plain": [
              "<Figure size 700x700 with 2 Axes>"
            ],
            "image/png": "[encoded data removed]"
          },
          "metadata": {}
        }
      ]
    },
    {
      "cell_type": "markdown",
      "source": [
        "O `classification_report` do scikit-learn contém precisão, recall, escore F1 e acurácia"
      ],
      "metadata": {
        "id": "kHk6U61ksQyZ"
      }
    },
    {
      "cell_type": "code",
      "source": [
        "print(classification_report(targets, preds, target_names=labels, zero_division=0))"
      ],
      "metadata": {
        "colab": {
          "base_uri": "https://localhost:8080/"
        },
        "id": "j69S_tZCr26S",
        "outputId": "48a1d820-4916-4274-804b-98e306a26d86"
      },
      "execution_count": null,
      "outputs": [
        {
          "output_type": "stream",
          "name": "stdout",
          "text": [
            "              precision    recall  f1-score   support\n",
            "\n",
            "           0       0.98      0.99      0.98       980\n",
            "           1       0.99      0.99      0.99      1135\n",
            "           2       0.98      0.98      0.98      1032\n",
            "           3       0.97      0.99      0.98      1010\n",
            "           4       0.99      0.97      0.98       982\n",
            "           5       0.99      0.97      0.98       892\n",
            "           6       0.98      0.98      0.98       958\n",
            "           7       0.98      0.97      0.98      1028\n",
            "           8       0.97      0.97      0.97       974\n",
            "           9       0.96      0.97      0.97      1009\n",
            "\n",
            "    accuracy                           0.98     10000\n",
            "   macro avg       0.98      0.98      0.98     10000\n",
            "weighted avg       0.98      0.98      0.98     10000\n",
            "\n"
          ]
        }
      ]
    },
    {
      "cell_type": "code",
      "source": [],
      "metadata": {
        "id": "cg8D8hQowP7L"
      },
      "execution_count": null,
      "outputs": []
    }
  ]
}