{
  "nbformat": 4,
  "nbformat_minor": 0,
  "metadata": {
    "colab": {
      "provenance": []
    },
    "kernelspec": {
      "name": "python3",
      "display_name": "Python 3"
    },
    "language_info": {
      "name": "python"
    }
  },
  "cells": [
    {
      "cell_type": "markdown",
      "source": [
        "https://pytorch.org/tutorials/beginner/blitz/autograd_tutorial.html"
      ],
      "metadata": {
        "id": "Ge9levZjiDdZ"
      }
    },
    {
      "cell_type": "code",
      "execution_count": null,
      "metadata": {
        "id": "cGUGq83bh-Yf"
      },
      "outputs": [],
      "source": [
        "import torch\n",
        "\n",
        "a = torch.tensor([2., 3.], requires_grad=True)\n",
        "b = torch.tensor([6., 4.], requires_grad=True)"
      ]
    },
    {
      "cell_type": "code",
      "source": [
        "f = 3*a**3 - b**2"
      ],
      "metadata": {
        "id": "3CiaBq1ciR4v"
      },
      "execution_count": null,
      "outputs": []
    },
    {
      "cell_type": "markdown",
      "source": [
        "df/da = 9a²\n",
        "df/db = -2b\n",
        "\n",
        "Se f for uma função de loss, usamos o backward para computar os gradientes com respeito as variaveis \"a\" e \"b\""
      ],
      "metadata": {
        "id": "_vgBEf9gikm4"
      }
    },
    {
      "cell_type": "code",
      "source": [
        "f.backward(gradient=torch.tensor([1.,1.]))"
      ],
      "metadata": {
        "id": "yMI17wshi5m6"
      },
      "execution_count": null,
      "outputs": []
    },
    {
      "cell_type": "code",
      "source": [
        "print(f\"Gradiente esperado para a: {9*a**2}\")\n",
        "print(f\"Gradiente esperado para b: {-2*b}\\n\")\n",
        "\n",
        "print(f\"Gradiente computado para a: {a.grad}\")\n",
        "print(f\"Gradiente computado para b: {b.grad}\")\n"
      ],
      "metadata": {
        "colab": {
          "base_uri": "https://localhost:8080/"
        },
        "id": "fOJW1U47jCsd",
        "outputId": "c06eff8f-8448-4040-90fc-dd4685758fdf"
      },
      "execution_count": null,
      "outputs": [
        {
          "output_type": "stream",
          "name": "stdout",
          "text": [
            "Gradiente esperado para a: tensor([36., 81.], grad_fn=<MulBackward0>)\n",
            "Gradiente esperado para b: tensor([-12.,  -8.], grad_fn=<MulBackward0>)\n",
            "\n",
            "Gradiente computado para a: tensor([36., 81.])\n",
            "Gradiente computado para b: tensor([-12.,  -8.])\n"
          ]
        }
      ]
    },
    {
      "cell_type": "markdown",
      "source": [
        "![image.png](data:image/png;base64,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)"
      ],
      "metadata": {
        "id": "E9dh_yG-m0A7"
      }
    },
    {
      "cell_type": "code",
      "source": [
        "c = torch.tensor([2., 3.], requires_grad=False)\n",
        "d = torch.tensor([6., 4.], requires_grad=True)\n",
        "f = 3*c**3 - d**2\n",
        "f.backward(gradient=torch.tensor([1.,1.]))\n",
        "\n",
        "print(f\"Gradiente computado para c: {c.grad}\")\n",
        "print(f\"Gradiente computado para d: {d.grad}\")"
      ],
      "metadata": {
        "colab": {
          "base_uri": "https://localhost:8080/"
        },
        "id": "xcXMrEDgmdBM",
        "outputId": "99532097-6ff3-46cd-9d2d-0ee491d71085"
      },
      "execution_count": null,
      "outputs": [
        {
          "output_type": "stream",
          "name": "stdout",
          "text": [
            "Gradiente computado para c: None\n",
            "Gradiente computado para d: tensor([-12.,  -8.])\n"
          ]
        }
      ]
    },
    {
      "cell_type": "code",
      "source": [
        "import torch\n",
        "from torchvision.models import resnet18, ResNet18_Weights\n",
        "\n",
        "model = resnet18(weights=ResNet18_Weights.DEFAULT)\n",
        "\n",
        "input = torch.rand(1,3,64,64)\n",
        "labels = torch.rand(1,1000)\n",
        "optim = torch.optim.SGD(model.parameters(), lr=1e-2, momentum=0.9)\n",
        "\n",
        "optim.zero_grad()\n",
        "prediction = model(input)\n",
        "loss = (prediction - labels).sum()\n",
        "loss.backward() # calcula os gradientes do modelo\n",
        "optim.step()    # aplica os gradientes nos pesos"
      ],
      "metadata": {
        "id": "T60ll-MujboR"
      },
      "execution_count": null,
      "outputs": []
    }
  ]
}