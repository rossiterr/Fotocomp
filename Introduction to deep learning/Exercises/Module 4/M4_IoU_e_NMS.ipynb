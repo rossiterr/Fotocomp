{
  "nbformat": 4,
  "nbformat_minor": 0,
  "metadata": {
    "colab": {
      "provenance": []
    },
    "kernelspec": {
      "name": "python3",
      "display_name": "Python 3"
    },
    "language_info": {
      "name": "python"
    }
  },
  "cells": [
    {
      "cell_type": "code",
      "execution_count": null,
      "metadata": {
        "id": "7m3Azc7DMIZO"
      },
      "outputs": [],
      "source": [
        "def iou(box1, box2) -> float:\n",
        "  \"\"\"\n",
        "  Inputs\n",
        "  ------\n",
        "  box1=[x0, y0, x1, y1]:list\n",
        "  box2=[x0, y0, x1, y1]:list\n",
        "  Returns\n",
        "  -------\n",
        "  iou_value: float\n",
        "  \"\"\"\n",
        "\n",
        "  # RET area: W * H\n",
        "  area1 = (box1[2] - box1[0]) * (box1[3] - box1[1])\n",
        "  area2 = (box2[2] - box2[0]) * (box2[3] - box2[1])\n",
        "\n",
        "  # Get intersection points\n",
        "  ix0 = max(box2[0], box1[0])\n",
        "  iy0 = max(box2[1], box1[1])\n",
        "  ix1 = min(box2[2], box1[2])\n",
        "  iy1 = min(box2[3], box1[3])\n",
        "\n",
        "  intersection_area = max(0, ix1 - ix0) * max(0, iy1 - iy0)\n",
        "\n",
        "  # U = U(B1) + U(B2) - I(B1, B2)\n",
        "  union_area = area1 + area2 - intersection_area\n",
        "\n",
        "  # IOU = I / U\n",
        "  iou_value = intersection_area / union_area\n",
        "\n",
        "  return iou_value"
      ]
    },
    {
      "cell_type": "code",
      "source": [
        "def nms(bounding_boxes, confidence_threshold=.8, iou_threshold=.5) -> list:\n",
        "  \"\"\"\n",
        "  Inputs\n",
        "  ------\n",
        "  box1=[x0, y0, x1, y1, confidence_score]:list\n",
        "  box2=[x0, y0, x1, y1, confidence_score]:list\n",
        "  Returns\n",
        "  -------\n",
        "  bbox_supressed: list\n",
        "  \"\"\"\n",
        "\n",
        "  # Sort by confidence score\n",
        "  bounding_boxes = sorted(bounding_boxes, reverse=True, key = lambda x: x[4])\n",
        "\n",
        "  # filter boxes if confidence < conf_threshold\n",
        "  bbox_filtered = [box for box in bounding_boxes if box[4] > confidence_threshold]\n",
        "\n",
        "  has_box = True\n",
        "\n",
        "  bbox_supressed = list()\n",
        "\n",
        "  # filter boxes by IoU value\n",
        "  while has_box:\n",
        "    current_box = bbox_filtered.pop(0)\n",
        "\n",
        "    bbox_supressed.append(current_box)\n",
        "\n",
        "    for box in bbox_filtered:\n",
        "      iou_value = iou(current_box[:4], box[:4])\n",
        "      if iou_value > iou_threshold: bbox_filtered.remove(box)\n",
        "\n",
        "    if len(bbox_filtered) == 0: has_box = False\n",
        "\n",
        "  return bbox_supressed"
      ],
      "metadata": {
        "id": "5QyQ64ojNIJi"
      },
      "execution_count": null,
      "outputs": []
    },
    {
      "cell_type": "code",
      "source": [
        "def check_iou(bb1_list, bb2_list):\n",
        "\n",
        "  values = list()\n",
        "  for (bb1, bb2) in zip(bb1_list, bb2_list):\n",
        "    iou_value = iou(bb1, bb2)\n",
        "    print(f\">> BB1: {bb1}; BB2: {bb2}; IoU: {iou_value}\\n\")\n",
        "    values.append(iou_value)\n",
        "  return values"
      ],
      "metadata": {
        "id": "Rwxt9N7KNm-U"
      },
      "execution_count": null,
      "outputs": []
    },
    {
      "cell_type": "code",
      "source": [
        "def check_nms(predictions, confidences_thresh=list(), iou_thresh=list()):\n",
        "  for conf_t in confidences_thresh:\n",
        "    for iou_t in iou_thresh:\n",
        "      filtered_predictions = nms(predictions, confidence_threshold=conf_t, iou_threshold=iou_t)\n",
        "      print(f\">> Predictions array: {predictions}\\nConf. Threshold: {conf_t}; IoU Threshold: {iou_t}\\nFiltered array: {filtered_predictions}\\n\")\n",
        "  return None"
      ],
      "metadata": {
        "id": "QJKCpwUmNspJ"
      },
      "execution_count": null,
      "outputs": []
    },
    {
      "cell_type": "code",
      "source": [
        "boxes1 = [[10,10,40,40], [10,10,40,40]]\n",
        "boxes2 = [[10,10,40,40], [60,70,90,80]]\n",
        "\n",
        "check_iou(boxes1, boxes2)"
      ],
      "metadata": {
        "colab": {
          "base_uri": "https://localhost:8080/"
        },
        "id": "zL-_kf14Nz5A",
        "outputId": "da3d645a-57d8-41c8-a076-6af8300bd527"
      },
      "execution_count": null,
      "outputs": [
        {
          "output_type": "stream",
          "name": "stdout",
          "text": [
            ">> BB1: [10, 10, 40, 40]; BB2: [10, 10, 40, 40]; IoU: 1.0\n",
            "\n",
            ">> BB1: [10, 10, 40, 40]; BB2: [60, 70, 90, 80]; IoU: 0.0\n",
            "\n"
          ]
        },
        {
          "output_type": "execute_result",
          "data": {
            "text/plain": [
              "[1.0, 0.0]"
            ]
          },
          "metadata": {},
          "execution_count": 5
        }
      ]
    },
    {
      "cell_type": "code",
      "source": [
        "predictions = [[30,30,40,40,.1], [45,45,65,75,.69]]\n",
        "\n",
        "check_nms(predictions, confidences_thresh=[.5], iou_thresh=[.3])"
      ],
      "metadata": {
        "colab": {
          "base_uri": "https://localhost:8080/"
        },
        "id": "jnm__6-9ONaT",
        "outputId": "4910870e-27a3-4e8c-83ad-26e3c0bf8a1d"
      },
      "execution_count": null,
      "outputs": [
        {
          "output_type": "stream",
          "name": "stdout",
          "text": [
            ">> Predictions array: [[30, 30, 40, 40, 0.1], [45, 45, 65, 75, 0.69]]\n",
            "Conf. Threshold: 0.5; IoU Threshold: 0.3\n",
            "Filtered array: [[45, 45, 65, 75, 0.69]]\n",
            "\n"
          ]
        }
      ]
    }
  ]
}