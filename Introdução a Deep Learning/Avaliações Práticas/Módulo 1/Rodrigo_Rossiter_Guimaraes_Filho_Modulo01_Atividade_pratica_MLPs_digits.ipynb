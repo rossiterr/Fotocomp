{
  "nbformat": 4,
  "nbformat_minor": 0,
  "metadata": {
    "colab": {
      "provenance": [],
      "toc_visible": true
    },
    "kernelspec": {
      "name": "python3",
      "display_name": "Python 3"
    },
    "language_info": {
      "name": "python"
    }
  },
  "cells": [
    {
      "cell_type": "markdown",
      "source": [
        "# Classificando digítos com MLPs\n",
        "\n",
        "Vamos utilizar um modelo MLP para realizar a classificação de imagens que possuem digítos (0-9).\n",
        "\n",
        "Para o teste utilizaremos o dataset digits do sklearn (https://scikit-learn.org/stable/auto_examples/classification/plot_digits_classification.html)\n",
        "\n",
        "O dataset é composto por imagens 8x8 em tons de cinza, cada uma com sua label correspondente (0-9).\n",
        "\n",
        "\n",
        "```OBS: Quando pedido, realize a operação na célula correspondente atribuindo o resultado na variável indicada. Não altere os nomes das variáveis utilizadas. Você pode utilizar celular adicionais para realizar testes, utilizando variaveis auxiliares para visualizar resultados intermediários.```"
      ],
      "metadata": {
        "id": "3eOFRXwE0QKb"
      }
    },
    {
      "cell_type": "markdown",
      "source": [
        "## 01 - Importando as bibliotecas e carregando o dataset\n",
        "\n",
        "Utilizamos o módulo datasets do sklearn para carregar os dados a partir da função load_digits(return_X_y=True).\n",
        "\n",
        "Passamos o parâmetro return_X_y com True para que a função retorne os exemplos e as anotações em variaveis separadas, atribuimos o resultado na variavel images e target, respectivamente. As variáveis serão retornadas como numpy.*ndarray*"
      ],
      "metadata": {
        "id": "Qs4SsGMJ0uEl"
      }
    },
    {
      "cell_type": "code",
      "execution_count": null,
      "metadata": {
        "id": "hUQvqij4z8bv"
      },
      "outputs": [],
      "source": [
        "import matplotlib.pyplot as plt\n",
        "\n",
        "from sklearn import datasets, metrics\n",
        "from sklearn.model_selection import train_test_split\n",
        "from sklearn.neural_network import MLPClassifier\n",
        "\n",
        "import numpy as np\n",
        "import cv2\n",
        "\n",
        "images, target = datasets.load_digits(return_X_y=True)"
      ]
    },
    {
      "cell_type": "code",
      "source": [
        "## 1.1 - Verifique as dimensões das variáveis images e target\n",
        "## Substitua as linhas abaixo para retornar o resultado\n",
        "\n",
        "shape_images = _\n",
        "shape_target = _\n",
        "\n",
        "print(shape_images)\n",
        "print(shape_target)"
      ],
      "metadata": {
        "id": "4Mdn4OAU2n71"
      },
      "execution_count": null,
      "outputs": []
    },
    {
      "cell_type": "code",
      "source": [
        "## 1.2 - Quantos exemplos possui o dataset digits?\n",
        "dataset_size = _\n",
        "\n",
        "print(dataset_size)"
      ],
      "metadata": {
        "id": "Kj_M9u8Z4FFk"
      },
      "execution_count": null,
      "outputs": []
    },
    {
      "cell_type": "markdown",
      "source": [
        "## 02 - Visualizando os exemplos\n",
        "\n",
        "Utilizando a biblioteca matplotlib, vamos tentar visualizar alguns dos dados disponíveis no dataset."
      ],
      "metadata": {
        "id": "1gN3gOdg4wER"
      }
    },
    {
      "cell_type": "code",
      "source": [
        "_, axes = plt.subplots(nrows=1, ncols=4, figsize=(10, 3))\n",
        "for ax, image, prediction in zip(axes, images, target):\n",
        "    ax.set_axis_off()\n",
        "    image = image.reshape(8, 8)\n",
        "    ax.imshow(image, cmap=plt.cm.gray_r, interpolation=\"nearest\")\n",
        "    ax.set_title(f\"Label: {prediction}\")"
      ],
      "metadata": {
        "id": "fUomUtW148xZ"
      },
      "execution_count": null,
      "outputs": []
    },
    {
      "cell_type": "markdown",
      "source": [
        "## 03 - Separando as partições\n",
        "\n",
        "Utilize a função train_test_split do sklearn para separar as partições em dois conjuntos (treino e teste). Utilizaremos o conjunto de treino para ajustar o modelo e o conjunto de teste para avaliar o desempenho do nosso modelo.\n",
        "\n",
        "Utilize a função de forma que o conjunto de treino possua 70% dos dados e o conjunto de teste possua 30%.\n",
        "\n",
        "Referência train_test_split: https://scikit-learn.org/stable/modules/generated/sklearn.model_selection.train_test_split.html#sklearn.model_selection.train_test_split"
      ],
      "metadata": {
        "id": "dey-3Riy5ZdO"
      }
    },
    {
      "cell_type": "code",
      "source": [
        "X_train, X_test = None, None\n",
        "y_train, y_test = None, None\n",
        "\n",
        "# 3.1 Utilize a função train_test_split para obter as partições\n",
        "# Atribua o resultado nas variaveis acima\n",
        "\n",
        "# INSIRA O CÓDIGO AQUI\n",
        "\n",
        "# 3.2 Compute o tamanho de cada partição, atribuindo o valor nas variaveis abaixo\n",
        "train_size = _\n",
        "test_size  = _\n",
        "\n",
        "print(train_size, test_size)"
      ],
      "metadata": {
        "id": "DvJO41ta5_b_"
      },
      "execution_count": null,
      "outputs": []
    },
    {
      "cell_type": "markdown",
      "source": [
        "## 04 - Inicializando e treinando o modelo\n",
        "\n",
        "Agora vamos carregar e treinar o modelo utilizando os dados da partição de treino.\n",
        "\n",
        "Vamos utilizar a classe MLPClassifier do sklearn para instanciar a nossa rede (https://scikit-learn.org/stable/modules/generated/sklearn.neural_network.MLPClassifier.html#sklearn.neural_network.MLPClassifier)\n",
        "\n",
        "Crie um modelo que contenha 3 camadas escondidas de dimensão (50,20,10) utilizando a função de ativação relu, otimizador adam, e learning rate 0.001. (Utilize max_iter=300)"
      ],
      "metadata": {
        "id": "hu0FsBvX7k57"
      }
    },
    {
      "cell_type": "code",
      "source": [
        "# 4.1 - Inicialize o modelo instanciando o classificador com o sklearn e atribua a variavel network\n",
        "\n",
        "# INSIRA O CÓDIGO AQUI\n",
        "network = _\n",
        "\n",
        "print(network.activation, network.solver,\n",
        "      network.learning_rate_init, network.hidden_layer_sizes)"
      ],
      "metadata": {
        "id": "QKhgcVs379tQ"
      },
      "execution_count": null,
      "outputs": []
    },
    {
      "cell_type": "code",
      "source": [
        "# 4.2 - Utilize a função fit para realizar o treinamento com as partições X_train e y_train\n",
        "\n",
        "# INSIRA O CÓDIGO AQUI"
      ],
      "metadata": {
        "id": "8qwPS8sfac7E"
      },
      "execution_count": null,
      "outputs": []
    },
    {
      "cell_type": "markdown",
      "source": [
        "## 05 - Avaliando o resultado\n",
        "\n",
        "Utilize a função predict, para realizar as predições com o conjunto X_test"
      ],
      "metadata": {
        "id": "AnqmJke3-0Sb"
      }
    },
    {
      "cell_type": "code",
      "source": [
        "# 5.1 - Utilize a função predict a partir do modelo treinado\n",
        "\n",
        "# INSIRA O CÓDIGO AQUI\n",
        "\n",
        "print(\n",
        "    f\"Classification report for classifier {network}:\\n\"\n",
        "    f\"{metrics.classification_report(y_test, predictions)}\\n\"\n",
        ")\n"
      ],
      "metadata": {
        "id": "ZSZFppnR_PMR"
      },
      "execution_count": null,
      "outputs": []
    },
    {
      "cell_type": "markdown",
      "source": [
        "Podemos verificar os parâmetros da rede a partir do atributo coefs_.\n",
        "Da mesma forma, podemos acessar o valor de bias de cada neurônio acessando o atributo intercepts_.\n",
        "\n",
        "Acesse os atributos coefs_ e intercepts_ da rede para verificar a dimensão dos conjuntos de pesos da rede criada. Utilize esses valores para calcular o numero de parâmetros treinaivéis que a nossa rede possui.\n"
      ],
      "metadata": {
        "id": "QSCIErIHB_-Q"
      }
    },
    {
      "cell_type": "code",
      "source": [
        "weights = network.coefs_\n",
        "bias    = network.intercepts_\n",
        "\n",
        "# 5.2 - Compute o numero de parametros e substitua o valor da variável abaixo com o numero de parametros do modelo\n",
        "\n",
        "parameters_number = _\n",
        "\n",
        "print(parameters_number)"
      ],
      "metadata": {
        "id": "bWGuZAF7AHf_"
      },
      "execution_count": null,
      "outputs": []
    },
    {
      "cell_type": "markdown",
      "source": [
        "## 06 - Testando em um dataset externo\n",
        "\n",
        "Treinamos e testamos nosso modelo em um unico dataset. Na prática, vamos querer aplicar o nosso modelo em diferentes conjuntos e dados.\n",
        "\n",
        "Para simular este caso, vamos carregar alguns imagens do dataset MNIST. Podemos acessar o MNIST pelo PyTorch, utlizando o módulo datasets.MNIST.\n",
        "\n",
        "O MNIST também é um dataset para classificação de digitos, porém, o dataset é composto por imagens em tons de cinza de dimensão 28x28 com anotações entre 0-9.\n",
        "\n",
        "As células seguintes são utilizadas para baixar a partição de teste do dataset localmente, carregar os exemplos utilizando a classe dataloader do PyTorch.\n",
        "\n",
        "Podemos manipular o dataloader como um objeto do tipo iterator, desta forma, podemos obter os exemplos utilizando a função next() do python; ou qualquer outra função compativel com iterators.\n",
        "\n",
        "Utilizamos o batch_size igual a 10, que significa que para cada iteração do dataloader obtemos 10 imagens do conjunto de teste.\n",
        "\n",
        "As imagens e labels são retornadas ao final do processo utilizando as variaveis mnist_images e mnist_label."
      ],
      "metadata": {
        "id": "-lGp8gW3IHnP"
      }
    },
    {
      "cell_type": "code",
      "source": [
        "import torch\n",
        "from torch.utils import data\n",
        "from torchvision import transforms, datasets\n",
        "\n",
        "transform = transforms.ToTensor()\n",
        "\n",
        "test_ds = datasets.MNIST(root = \".\", train = False,\n",
        "                         download = True, transform = transform)\n",
        "\n",
        "test_dl = data.DataLoader(\n",
        "    test_ds, batch_size=50, shuffle=True,\n",
        "    num_workers=2, pin_memory=True\n",
        ")\n",
        "\n",
        "mnist_test_images, mnist_test_labels = next(iter(test_dl))\n",
        "\n",
        "mnist_test_images  = mnist_test_images.numpy()\n",
        "mnist_test_labels  = mnist_test_labels.numpy()"
      ],
      "metadata": {
        "id": "VO7Ij0U3IMCF"
      },
      "execution_count": null,
      "outputs": []
    },
    {
      "cell_type": "markdown",
      "source": [
        "Imprimindo a dimensão da imagem, podemos perceber que a representação utilizada pelo PyTorch não corresponde a utilizada pelo nosso modelo.\n",
        "\n",
        "O PyTorch representa os exemplos do mnist como (B, C, H, W), onde B é o tamanho do batch (numero de imagens), C o número de canais, H a altura da imagem e W a largura da imagem."
      ],
      "metadata": {
        "id": "oNAjrZv_MIHr"
      }
    },
    {
      "cell_type": "code",
      "source": [
        "print(mnist_test_images.shape)"
      ],
      "metadata": {
        "id": "X27nL-EsJJk_"
      },
      "execution_count": null,
      "outputs": []
    },
    {
      "cell_type": "markdown",
      "source": [
        "Para utilizar essa imagem no nosso modelo, precisamos redimensionar os dados para 8x8 (mesmo tamanho utilizado pela nossa rede). Em seguida, devemos converter essa entrada para um vetor de dimensão (B, 64), transformando nossa imagem 8x8 é um vetor unidimensional.\n",
        "\n",
        "-> Utilize a função resize do opencv (https://learnopencv.com/image-resizing-with-opencv/) para redimensionar nossos exemplos e em seguida aplique as funções da biblioteca numpy para obter o vetor nas dimensões esperada pelo modelo.\n",
        "\n",
        "Dica 01: Temos um conjunto de B imagens na variavel mnist_images, itere sobre a variavel e realize as operações para cada imagem individualmente.\n",
        "\n",
        "Dica 02: Remova a dimensão 1 que representa C antes do resize. O opencv utiliza a representação (H,W,C) - altura, largura, canais. Podendo omitir o valor dos canais quando C=1 (i.e., (H,W)). Utilize o numpy.squeeze (https://numpy.org/doc/stable/reference/generated/numpy.squeeze.html)\n",
        "\n",
        "Dica 03: Para transformar a imagem em um vetor unidimensional utilize as funções flatten ou reshape do numpy"
      ],
      "metadata": {
        "id": "SyqcJjadMe7X"
      }
    },
    {
      "cell_type": "code",
      "source": [
        "squeezed_images = None\n",
        "\n",
        "# 6.1 - remova a dimensão extra que representa os canais\n",
        "\n",
        "# INSIRA O CÓDIGO AQUI\n",
        "\n",
        "print(squeezed_images.shape)"
      ],
      "metadata": {
        "id": "GX1s2zMmMFz3"
      },
      "execution_count": null,
      "outputs": []
    },
    {
      "cell_type": "code",
      "source": [
        "resized_images = None\n",
        "\n",
        "# 6.2 - redimensione as imagens para o tamanho 8x8\n",
        "\n",
        "# INSIRA O CÓDIGO AQUI\n",
        "\n",
        "print(resized_images.shape)"
      ],
      "metadata": {
        "id": "e5joP8dePS6I"
      },
      "execution_count": null,
      "outputs": []
    },
    {
      "cell_type": "code",
      "source": [
        "mnist_transformed = None\n",
        "\n",
        "#6.3 - transforme as imagens 8x8 em vetores de tamanho 64\n",
        "\n",
        "# INSIRA O CÓDIGO AQUI\n",
        "\n",
        "print(mnist_transformed.shape)"
      ],
      "metadata": {
        "id": "VnPr4hFDPyy7"
      },
      "execution_count": null,
      "outputs": []
    },
    {
      "cell_type": "markdown",
      "source": [
        "-> Execute as próximas células para visualizar as imagens antes e depois das transformações"
      ],
      "metadata": {
        "id": "9Jrvw0WtRQIS"
      }
    },
    {
      "cell_type": "code",
      "source": [
        "# Visualizando as imagens 28x28 antes da transformação\n",
        "\n",
        "_, axes = plt.subplots(nrows=1, ncols=4, figsize=(10, 3))\n",
        "for ax, image, label in zip(axes, squeezed_images, mnist_test_labels):\n",
        "    ax.set_axis_off()\n",
        "    ax.imshow(image, cmap=plt.cm.gray_r, interpolation=\"nearest\")\n",
        "    ax.set_title(f\"Label: {label}\")"
      ],
      "metadata": {
        "id": "liZztWxDQ4bj"
      },
      "execution_count": null,
      "outputs": []
    },
    {
      "cell_type": "code",
      "source": [
        "# Visualizando as imagens 8x8\n",
        "\n",
        "_, axes = plt.subplots(nrows=1, ncols=4, figsize=(10, 3))\n",
        "for ax, image, label in zip(axes, mnist_transformed, mnist_test_labels):\n",
        "    ax.set_axis_off()\n",
        "    image = image.reshape(8, 8)\n",
        "    ax.imshow(image, cmap=plt.cm.gray_r, interpolation=\"nearest\")\n",
        "    ax.set_title(f\"Label: {label}\")"
      ],
      "metadata": {
        "id": "PmwydNYNLAKB"
      },
      "execution_count": null,
      "outputs": []
    },
    {
      "cell_type": "markdown",
      "source": [
        "Vamos passar agora nossas imagens transformadas para que o modelo realize as predições\n",
        "\n",
        "-> Utilize a função predict para obter os resultados a partir da variavel network, utilizando como parametro nossa variavel mnist_transformed"
      ],
      "metadata": {
        "id": "sGKpkkP5RoTu"
      }
    },
    {
      "cell_type": "code",
      "source": [
        "# 6.5 - Utilize a função predict a partir do modelo treinado\n",
        "\n",
        "# INSIRA O CÓDIGO AQUI\n",
        "\n",
        "print(\n",
        "    f\"Classification report for classifier {network}:\\n\"\n",
        "    f\"{metrics.classification_report(mnist_test_labels, predictions_mnist)}\\n\"\n",
        ")"
      ],
      "metadata": {
        "id": "L7Nmvc4QRlhF"
      },
      "execution_count": null,
      "outputs": []
    },
    {
      "cell_type": "markdown",
      "source": [
        "-> Avalie o resultado anterior. O modelo manteve a acurácia?"
      ],
      "metadata": {
        "id": "jG3N1o6tS6P0"
      }
    },
    {
      "cell_type": "markdown",
      "source": [
        "### Extra (Opcional)\n",
        "\n",
        "Na célula abaixo carregamos um conjunto adicional de treino do mnist.\n",
        "Tente treinar o mesmo modelo anterior utilizando esse novo conjunto e avalie o resultado final.\n",
        "\n",
        "Teste o treinamento com imagens 8x8 e também com 28x28. O resultado é alterado utilizando o mesmo modelo?\n",
        "\n",
        "Teste diferentes tamanhos de imagens, diferentes arquiteturas e diferentes métodos de resize para avaliar as mudanças dos resultados.\n"
      ],
      "metadata": {
        "id": "nBwCG7wfUMGS"
      }
    },
    {
      "cell_type": "code",
      "source": [
        "train_ds = datasets.MNIST(root = \".\", train = False,\n",
        "                         download = True, transform = transform)\n",
        "\n",
        "train_dl = data.DataLoader(train_ds, batch_size=1000,\n",
        "          shuffle=True, num_workers=2, pin_memory=True)\n",
        "\n",
        "mnist_train_images, mnist_train_labels = next(iter(train_dl))\n",
        "\n",
        "mnist_train_images = mnist_train_images.numpy()\n",
        "mnist_train_labels  = mnist_train_labels.numpy()"
      ],
      "metadata": {
        "id": "PmjmKsm8TxgT"
      },
      "execution_count": null,
      "outputs": []
    },
    {
      "cell_type": "code",
      "source": [
        "# E.1 - Transforme os dados\n",
        "\n",
        "# E.2 - Crie e treine o modelo com o conjunto de treino\n",
        "\n",
        "# E.3 - Avalie o resultado utilizando o conjunto de teste\n"
      ],
      "metadata": {
        "id": "iElBNfDTUiKc"
      },
      "execution_count": null,
      "outputs": []
    }
  ]
}