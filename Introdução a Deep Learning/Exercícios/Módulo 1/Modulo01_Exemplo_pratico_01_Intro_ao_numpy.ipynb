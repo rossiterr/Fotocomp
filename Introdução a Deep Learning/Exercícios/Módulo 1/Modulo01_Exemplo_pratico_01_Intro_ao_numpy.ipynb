{
  "nbformat": 4,
  "nbformat_minor": 0,
  "metadata": {
    "colab": {
      "provenance": []
    },
    "kernelspec": {
      "name": "python3",
      "display_name": "Python 3"
    },
    "language_info": {
      "name": "python"
    }
  },
  "cells": [
    {
      "cell_type": "markdown",
      "source": [
        "# Numpy\n",
        "\n",
        "O numpy é uma das principais bibliotecas de computação cientifica em Python. https://numpy.org/doc/stable/index.html\n",
        "\n",
        "A biblioteca fornece funções para realizar operações de forma eficiente em dados multidimensionais incluindo funções matemáticas, logicas, manipulação de matrizes, ordenação, entre outros.\n",
        "\n",
        "Por este motivo, o padrão de operações do numpy é bastante utilizado na area de machine learning e seu tipo básico (arrays) é adotado em diveros frameworks, como sklearn, opencv, pytorch, etc.\n",
        "\n",
        "Neste colab vamos abordar algumas das operações mais utilizadas em numpy, e exemplificar seu uso para criação de modelos simples em machine learning."
      ],
      "metadata": {
        "id": "FpVM64EnK83X"
      }
    },
    {
      "cell_type": "markdown",
      "source": [
        "## Instalando e importando:"
      ],
      "metadata": {
        "id": "bRw0amxFLISZ"
      }
    },
    {
      "cell_type": "code",
      "source": [
        "!pip install numpy"
      ],
      "metadata": {
        "id": "JT8RNI01HagS"
      },
      "execution_count": null,
      "outputs": []
    },
    {
      "cell_type": "code",
      "execution_count": null,
      "metadata": {
        "id": "cFSa4r9Fo_xy"
      },
      "outputs": [],
      "source": [
        "#Importando a biblioteca\n",
        "import numpy as np"
      ]
    },
    {
      "cell_type": "markdown",
      "source": [
        "## Arrays e Matrizes:\n",
        "\n",
        "\n",
        "NumPy é usado para trabalhar com arrays. O objeto array em NumPy é chamado ndarray.\n",
        "\n",
        "Podemos criar um objeto NumPy ndarray usando a função array()."
      ],
      "metadata": {
        "id": "Prsdcf4P2cil"
      }
    },
    {
      "cell_type": "code",
      "source": [
        "#arrays:\n",
        "meu_array = np.array([1, 2, 3, 4, 5, 6])\n",
        "print(meu_array)                         # o conteúdo do array\n",
        "print(type(meu_array))                   # tipo da variavel\n",
        "print(meu_array.dtype)                   # tipo do array\n",
        "print(meu_array[2])                      # acessando um elemento específico do array"
      ],
      "metadata": {
        "id": "Yhydz1zxpQJV"
      },
      "execution_count": null,
      "outputs": []
    },
    {
      "cell_type": "code",
      "source": [
        "#matrizes:\n",
        "minha_matriz = np.array([[1,2,3],[4,5,6]])\n",
        "print(minha_matriz)\n",
        "print(type(minha_matriz))\n",
        "print(minha_matriz[0][2])"
      ],
      "metadata": {
        "id": "rUBV8sT1QOE3"
      },
      "execution_count": null,
      "outputs": []
    },
    {
      "cell_type": "markdown",
      "source": [
        "\n",
        "Os Arrays podem representar dados multi-dimensionais de qualquer ordem.\n",
        "NumPy Arrays fornece o atributo ndim que retorna um número inteiro que nos informa quantas dimensões o array possui.\n",
        "\n",
        "\n",
        "Uma escalar que possui 0D é chamada de matriz unidimensional ou 1-D."
      ],
      "metadata": {
        "id": "sd68dDB3N0xi"
      }
    },
    {
      "cell_type": "code",
      "source": [
        "escalar = np.array(1)\n",
        "print(escalar.ndim)\n",
        "\n",
        "vec1D   = np.array([1,2,3])\n",
        "print(vec1D.ndim)\n",
        "\n",
        "mat2D   = np.array([[1,2,3],[1,2,3]])\n",
        "print(mat2D.ndim)\n",
        "\n",
        "mat3D   = np.array([[1,2,3], [1,2,3], [1,2,3]])\n",
        "print(mat3D.ndim)\n",
        "\n",
        "# podemos passar uma lista e especificar o numero de dimensoes que sera criado o array\n",
        "mat5D   = np.array([1,2,3,4,5], ndmin=5)\n",
        "print(mat5D)\n",
        "print(mat5D.ndim)"
      ],
      "metadata": {
        "id": "1R5I-dlnOMyN"
      },
      "execution_count": null,
      "outputs": []
    },
    {
      "cell_type": "markdown",
      "source": [
        "Para acessar o tamanho de cada dimensão utilizamos o atributo shape"
      ],
      "metadata": {
        "id": "HMOhrpg1PFHV"
      }
    },
    {
      "cell_type": "code",
      "source": [
        "print(escalar.shape)\n",
        "print(vec1D.shape)\n",
        "print(mat2D.shape)\n",
        "print(mat3D.shape)\n",
        "print(mat5D.shape)"
      ],
      "metadata": {
        "id": "v8_oW_8TPIiN"
      },
      "execution_count": null,
      "outputs": []
    },
    {
      "cell_type": "markdown",
      "source": [
        "Podemos criar Arrays utilizando diferentes tipos em Numpy.\n",
        "https://numpy.org/doc/stable/reference/arrays.dtypes.html\n",
        "\n",
        "Alguns tipos de dados:"
      ],
      "metadata": {
        "id": "YMjuWdXhKo-Q"
      }
    },
    {
      "cell_type": "code",
      "source": [
        "#número de bits que constituem o valor inteiro: int8, int16, int32, int64\n",
        "int_array = np.array([1, 2, 3], dtype=np.int64)\n",
        "print(int_array)\n",
        "\n",
        "#número de bits que constituem o valor float: int8, int16, int32, int64\n",
        "float_array = np.array([1.0, 2.0, 3.0], dtype=np.float64)\n",
        "print(float_array)\n",
        "\n",
        "#array de números complexos\n",
        "complex_num = np.array([1 + 2j, 3 - 4j], dtype=complex)\n",
        "print(complex_num)\n",
        "\n",
        "#array de valores booleanos\n",
        "bool_array = np.array([True, False, True], dtype=bool)\n",
        "print(bool_array)\n",
        "\n",
        "#array de strings\n",
        "string_array = np.array(['foo', 'bar', 'baz'], dtype=np.string_)\n",
        "print(string_array)\n",
        "\n",
        "#array de datas\n",
        "date_array = np.array(['2023-01-01', '2023-01-02'], dtype=np.datetime64)\n",
        "print(date_array)"
      ],
      "metadata": {
        "id": "S2jRNMx1Ihif"
      },
      "execution_count": null,
      "outputs": []
    },
    {
      "cell_type": "markdown",
      "source": [
        "Também podemos utilizar funções específicas para facilitar a criação de arrays:"
      ],
      "metadata": {
        "id": "Bj8RtPGaKsYX"
      }
    },
    {
      "cell_type": "code",
      "source": [
        "# Criar uma array vazia com 2 elementos\n",
        "array_vazia = np.empty(2)\n",
        "print(array_vazia)\n",
        "\n",
        "# Criar um array de números inteiros de 0 a 9\n",
        "array = np.arange(10)\n",
        "print(array)\n",
        "\n",
        "# Criar um array de números float de 0 a 1 com incrementos de 0.1\n",
        "array = np.arange(0, 1, 0.1)\n",
        "print(array)\n",
        "\n",
        "#array de elementos aleatórios\n",
        "dados_aleatorios = np.random.rand(5)\n",
        "print(dados_aleatorios)\n",
        "\n",
        "# Criar um array 2D de zeros com 3 linhas e 4 colunas\n",
        "zeros_array = np.zeros((3, 4))\n",
        "print(zeros_array)\n",
        "\n",
        "# Criar um array 2D de uns com 2 linhas e 3 colunas\n",
        "uns_array = np.ones((2, 3))\n",
        "print(uns_array)\n",
        "\n",
        "# Criar um array com 10 valores igualmente espaçados entre 1 e 5\n",
        "array_lins = np.linspace(1, 5, num=10)\n",
        "print(array_lins)"
      ],
      "metadata": {
        "id": "hqHEYKLEtfEI"
      },
      "execution_count": null,
      "outputs": []
    },
    {
      "cell_type": "markdown",
      "source": [
        "Informações sobre o array:"
      ],
      "metadata": {
        "id": "C8rdIzLlKvYO"
      }
    },
    {
      "cell_type": "code",
      "source": [
        "arr = np.array([[1, 2, 3], [4, 5, 6]])\n",
        "\n",
        "#formato\n",
        "shape = arr.shape\n",
        "print(shape)\n",
        "\n",
        "#número de dimensões\n",
        "dimensao = arr.ndim\n",
        "print(dimensao)\n",
        "\n",
        "#número de elementos\n",
        "elementos = arr.size\n",
        "print(elementos)\n",
        "\n",
        "#tipo de dados\n",
        "data_type = arr.dtype\n",
        "print(data_type)"
      ],
      "metadata": {
        "id": "md4h6Wp4y3YW"
      },
      "execution_count": null,
      "outputs": []
    },
    {
      "cell_type": "markdown",
      "source": [
        "Podemos realizar diversas operações com os Arrays."
      ],
      "metadata": {
        "id": "PT5zQsPe2n5W"
      }
    },
    {
      "cell_type": "code",
      "source": [
        "#Operações básicas:\n",
        "array1 = np.array([1, 2, 3])\n",
        "array2 = np.array([4, 5, 6])\n",
        "matriz1 = np.array([[1, 2], [3, 4]])\n",
        "matriz2 = np.array([[5, 6], [7, 8]])\n",
        "array_random = np.array([3,6,4,7,4,2])\n",
        "\n",
        "# soma o elemento na posição correspondente em cada posição\n",
        "soma = array1 + array2\n",
        "print(f\"Soma de {array1} e {array2}: {soma}\")\n",
        "\n",
        "# subtrai o valor correspondente do segundo array em cada posição\n",
        "subtracao = array1 - array2\n",
        "print(f\"Subtracao de {array1} e {array2}: {subtracao}\")\n",
        "\n",
        "# multiplica cada elemento do array pelo seu correspondente nem cada posição\n",
        "multiplicacao = array1 * array2\n",
        "print(f\"multiplicacao {array1} e {array2}: {multiplicacao}\")\n",
        "\n",
        "\n",
        "# divide cada elemento pelo correspondente em cada posição\n",
        "divisao = array1 / array2\n",
        "print(f\"Divisao de {array1} por {array2}: {divisao}\")\n",
        "\n",
        "# produto entre matrizes:\n",
        "produto = np.dot(matriz1, matriz2)\n",
        "print(f\"Produto entre {matriz1} e {matriz2}: {produto}\")\n",
        "\n",
        "#concatenando duas arrays\n",
        "concatenacao = np.concatenate((array1, array2))\n",
        "print(f\"Concatenacao de {array1} e {array2}: {concatenacao}\")\n",
        "\n",
        "#ordenando um array\n",
        "print(f\"Array antes da ordenacao: {array_random}\")\n",
        "array_ordenada = np.sort(array_random)\n",
        "print(f\"Array_ordenado: {array_ordenada}\\n\")\n",
        "\n",
        "# podemos adicionar uma dimensão extra de tamanho 1 no array\n",
        "arr = np.array([[1,2,3],[1,2,3]])\n",
        "print(f\"Expandindo a dimensionalidade\")\n",
        "print(f'Shape: {arr.shape}')\n",
        "print(f'Shape: {np.expand_dims(arr, axis=0).shape}')\n",
        "print(f'Shape: {np.expand_dims(arr, axis=1).shape}\\n')\n",
        "\n",
        "# da mesma forma, podemos remover uma dimensao de tamanho 1\n",
        "arr = np.array([[[1,2,3], [1,2,3]]])\n",
        "print(f\"Revomendo uma dimensao unitaria\")\n",
        "print(f'Shape: {arr.shape}')\n",
        "print(f'Shape: {np.squeeze(arr, axis=0).shape}\\n')"
      ],
      "metadata": {
        "id": "I4JxEi5msjHR"
      },
      "execution_count": null,
      "outputs": []
    },
    {
      "cell_type": "markdown",
      "source": [
        "Os Arrays numpy podem realizar operações de variáveis que possuem diferentes dimensões, para isso o Numpy realiza o broadcasting. O broadcasting duplica os dados em um array para permitir certas operações (quando possível).\n",
        "Ex. Na multiplicação de um escalar por um vetor 2D, o numpy copia o escalar nxm vezes para realizar a multiplicação de todos os valores do vetor pelo escalar.\n",
        "\n",
        "Cheque as informações sobre o broadcasting no Numpy: https://numpy.org/doc/stable/user/basics.broadcasting.html\n"
      ],
      "metadata": {
        "id": "3elCe3dNRaAm"
      }
    },
    {
      "cell_type": "markdown",
      "source": [
        "Dados estatísticos:"
      ],
      "metadata": {
        "id": "bgBe6viIK1do"
      }
    },
    {
      "cell_type": "code",
      "source": [
        "array = np.array([1, 2, 3, 4, 5, 6, 5, 3, 8])\n",
        "\n",
        "media = np.mean(array)\n",
        "print(media)\n",
        "\n",
        "mediana = np.median(array)\n",
        "print(mediana)\n",
        "\n",
        "desvio_padrao = np.std(array)\n",
        "print(desvio_padrao)\n",
        "\n",
        "variancia = np.var(array)\n",
        "print(variancia)\n",
        "\n",
        "valor_minimo = np.min(array)\n",
        "valor_maximo = np.max(array)\n",
        "print(valor_minimo, valor_maximo)"
      ],
      "metadata": {
        "id": "PGVD8CB6xkOD"
      },
      "execution_count": null,
      "outputs": []
    },
    {
      "cell_type": "markdown",
      "source": [
        "Remodelando arrays:"
      ],
      "metadata": {
        "id": "Dng1p7CwK5No"
      }
    },
    {
      "cell_type": "code",
      "source": [
        "array = np.array([1, 2, 3, 4, 5, 6, 7, 8, 9, 10, 11, 12])\n",
        "\n",
        "# Escolhendo o novo formato\n",
        "reshaped_arr = array.reshape(3, 4)\n",
        "print(reshaped_arr)\n",
        "\n",
        "# Permitindo o numpy escolher automaticamente com base no número de dados\n",
        "# Definimos que a primeira dimensão deve ter tamanho 3, a outra dimensão\n",
        "# sera ajustada com base nos valores\n",
        "reshaped_arr = array.reshape(3, -1)\n",
        "print(reshaped_arr)\n",
        "\n",
        "#transformando um array multidimensional em um array 1D\n",
        "unidimensional_arr = array.ravel() # tambem podemos utilizar o array.flatten()\n",
        "print(unidimensional_arr)\n",
        "\n",
        "#obtendo a matriz transposta\n",
        "transposta_arr = array.T\n",
        "print(transposta_arr)"
      ],
      "metadata": {
        "id": "SsfRTgSf0JAZ"
      },
      "execution_count": null,
      "outputs": []
    },
    {
      "cell_type": "markdown",
      "source": [
        "Seleção de dados em arrays:"
      ],
      "metadata": {
        "id": "aAqVTsS_Lu_s"
      }
    },
    {
      "cell_type": "code",
      "source": [
        "array1 = np.array([1,  2,  3,  4,  5,  6,  7,  8,  9, 10])\n",
        "\n",
        "#selecionando um intervalo de valores dentro de um array\n",
        "intervalo = array1[3:8]\n",
        "print(intervalo)\n",
        "\n",
        "#selecionando todos os valores pares dentro do array\n",
        "valores_pares = array1[array1%2==0]\n",
        "print(valores_pares)\n",
        "\n",
        "resultados = array1[array1 < 4]\n",
        "print(resultados)"
      ],
      "metadata": {
        "id": "DnKl9ioeLzoK"
      },
      "execution_count": null,
      "outputs": []
    },
    {
      "cell_type": "markdown",
      "source": [
        "## Arrays e imagens\n",
        "\n",
        "Numpy Arrays são muitos utilizadas para operações em imagens.\n",
        "A biblioteca opencv utiliza ndarray como tipo basico para realizar operacoes.\n",
        "\n",
        "Podemos utilizar as operações de broadcasting do numpy para facilitar a manipulação de imagens (e.g., somar imagens, aumentar o brilho, alterar constrate, etc)\n",
        "\n",
        "Leitura complementar numpy e imagens com scipy: https://scipy-lectures.org/advanced/image_processing/"
      ],
      "metadata": {
        "id": "Mh8bSLsXUAWp"
      }
    },
    {
      "cell_type": "markdown",
      "source": [
        "### Ajustando as dimensões\n",
        "\n",
        "A dimensionalidade dos Array é um ponto de bastante importancia para imagens e machine learning.\n",
        "Por exemplo, o opencv utiliza por padrão o formato BGR para imagens, em algumas situações precisamos inverter os valores dos canais para realizar a manipulação de imagens em RGB."
      ],
      "metadata": {
        "id": "jD1AKbZBVYzL"
      }
    },
    {
      "cell_type": "markdown",
      "source": [
        "Algumas vezes é necessário alterar a ordem dos canais em um Array.\n",
        "Por exemplos, no framework de machine learning tensorflow é utilizado o padrão (B, H, W, C) enquanto no PyTorch utiliza-se (B, C, H, W) , onde B=numero de imagens e H,W,C são, respectivamente, altura, largura e numero de canais da imagens.\n",
        "\n",
        "Leituras complementares, tensores e conversão:\n",
        "https://medium.com/@dev-afzalansari/what-is-a-tensor-shape-dims-rank-and-dtype-explained-fd5f9611c7b3\n",
        "https://lindevs.com/convert-pytorch-tensor-to-opencv-image-using-python\n"
      ],
      "metadata": {
        "id": "-w0ohwItVvfJ"
      }
    },
    {
      "cell_type": "markdown",
      "source": [
        "# Regressão logistica com Numpy\n",
        "\n",
        "vamos criar um exemplo do modelo de regressão logistica utilizando o numpy"
      ],
      "metadata": {
        "id": "H3xJFLvJWOXG"
      }
    },
    {
      "cell_type": "code",
      "source": [
        "\"\"\" Em programacao Python tradicional\n",
        "podemos criar o modelo utilizando listas\"\"\"\n",
        "\n",
        "# A entrada eh um vetor de dimensao 10\n",
        "x = [1,3,2,1,5,2,3,1,6,3]\n",
        "\n",
        "# temos um valor de peso para cada atributo da entrada\n",
        "w = [.1, .2, .5, .3, .2, .1, .2, .4, .5, .6]\n",
        "\n",
        "# e um valor de bias\n",
        "b = 1.0\n",
        "\n",
        "modelo_regressao = lambda x: (sum([x[i]*w[i] for i in range(len(x))]) + b)\n",
        "print(f\"Regressao lista: {modelo_regressao(x)}\")\n",
        "\n",
        "\"\"\" Agora vamos criar o modelo\n",
        "utilizando numpy\"\"\"\n",
        "\n",
        "x_np = np.array(x)\n",
        "w_np = np.array(w)\n",
        "modelo_regressao_numpy = lambda x: np.sum(x_np * w_np) + b\n",
        "print(f\"Regressao Numpy: {modelo_regressao_numpy(x_np)}\")\n",
        "\n",
        "\"\"\"\n",
        "O processo de otimizacao do modelo de regressao é iterativo e\n",
        "envolve varios passos\n",
        "(assim como para varios modelos supervisionados);\n",
        "Vamos comparar o resultado da operação para varias iterações, simulando\n",
        "um processo de otimizacao (simplificado)\n",
        "\"\"\"\n",
        "\n",
        "import time\n",
        "import random\n",
        "\n",
        "# vamos criar um vetor de entrada de tramanho 1000 com valores de 0 a 100\n",
        "x = [random.randint (0, 100) for i in range(1000)]\n",
        "w = [random.randint (0, 100) for i in range(1000)]\n",
        "\n",
        "# rodamos o modelo por 1000 iteracoes (epocas)\n",
        "start = time.time()\n",
        "for _ in range(1000000): modelo_regressao(x)\n",
        "end   = time.time()\n",
        "print(f\"Tempo de execucao modelo 01: {end-start}\")\n",
        "\n",
        "x_np = np.array(x)\n",
        "w_np = np.array(w)\n",
        "start = time.time()\n",
        "for _ in range(1000000): modelo_regressao_numpy(x_np)\n",
        "end   = time.time()\n",
        "print(f\"Tempo de execucao modelo 02: {end-start}\")"
      ],
      "metadata": {
        "id": "YXJqETdCWXwY"
      },
      "execution_count": null,
      "outputs": []
    },
    {
      "cell_type": "markdown",
      "source": [
        "### Exercícios\n",
        "\n",
        "01 - Implemente a função MSE utilizando numpy. Crie a função de forma que ela possa receber vetores 1-D de qualquer tamanho n.\n",
        "\n",
        "02 - Utilize o opencv para ler uma imagem RGB (I). Verifique o range dos valores de entrada e aplique a normalização na imagem (x - min(I)/ max(I) - min(I))\n",
        "\n",
        "03 - Crie um array de tamanho N com numeros aleatorios entre 0 e 2. Aplique um filtro no array para transformar todos os valores 0 em -1.\n",
        "\n",
        "04 - Transforme uma imagem 2-D em uma entrada válida para uma rede MLP. Leia a imagem utilizando o opencv. Transforme a imagem para tons de cinza. Em seguida, altere a imagem para que ela possua apenas uma dimensão (1-D).\n",
        "\n",
        "05 - Leia uma imagem em tons de cinza. Realize 3 transformações copiando a imagem em 3 variaveis distintas. Concatene essas copias para gerar uma imagem de 3 canais. Visualize o resultado final.\n",
        "\n",
        "06 - Leia 3 imagens em tons de cinza com o opencv. Transforme as imagens que elas possuam a mesma dimensão (H,W). Você deve ter um array de dimensão (3,H,W).Transforme esse array para um formato válido para o framework PyTorch (a dimensão final deve ser (B,C,H,W), com B=3, C=1).\n",
        "\n",
        "07 - Implemente as funções de ativação sigmoid, tanh, e ReLU."
      ],
      "metadata": {
        "id": "2DPmRPgULIc2"
      }
    }
  ]
}