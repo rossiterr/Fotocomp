{
  "cells": [
    {
      "cell_type": "markdown",
      "source": [
        "## Exemplo Regressão Logística e MLPs\n",
        "\n",
        "### Classificador para avaliar satisfação de usuários em linhas aereas"
      ],
      "metadata": {
        "id": "iBfH7d5E7E-T"
      }
    },
    {
      "cell_type": "code",
      "execution_count": null,
      "metadata": {
        "id": "1j8j_io87BLE"
      },
      "outputs": [],
      "source": [
        "import pandas as pd\n",
        "from sklearn.model_selection import train_test_split\n",
        "from sklearn.linear_model import LogisticRegression\n",
        "from sklearn.datasets import load_iris, load_digits\n",
        "from sklearn.neural_network import MLPClassifier\n",
        "from sklearn.preprocessing import normalize, OneHotEncoder, OrdinalEncoder\n",
        "from sklearn.metrics import mean_absolute_error, roc_auc_score, f1_score, confusion_matrix\n",
        "\n",
        "'''\n",
        "Customer Satisfaction in Airline\n",
        "Source: https://www.kaggle.com/datasets/yakhyojon/customer-satisfaction-in-airline\n",
        "'''\n",
        "\n",
        "data_path = 'data/Invistico_Airline.csv'\n",
        "\n",
        "# Carregando dataset em data_df\n",
        "data_df   = pd.read_csv(data_path)\n",
        "pd.set_option('display.max_columns',None)\n",
        "\n",
        "print(data_df.columns)"
      ]
    },
    {
      "cell_type": "code",
      "execution_count": null,
      "metadata": {
        "id": "Mnnj0nk57BLH"
      },
      "outputs": [],
      "source": [
        "## Exemplo de treino com regressão logistica (Dataset iris)\n",
        "X,y = load_iris(return_X_y=True)\n",
        "\n",
        "X, Xtest, y, ytest = train_test_split(X,y,test_size=.2,random_state=0)\n",
        "\n",
        "clf = LogisticRegression(penalty='l1', solver='liblinear',random_state=0, max_iter=1000).fit(X, y)\n",
        "clf.score(Xtest, ytest)"
      ]
    },
    {
      "cell_type": "code",
      "execution_count": null,
      "metadata": {
        "id": "R9dI95IJ7BLI"
      },
      "outputs": [],
      "source": [
        "X,y = load_iris(return_X_y=True)\n",
        "\n",
        "X, Xtest, y, ytest = train_test_split(X,y,test_size=.2,random_state=0)\n",
        "\n",
        "clf = LogisticRegression(penalty='l2', solver='lbfgs',random_state=0, max_iter=1000).fit(X, y)\n",
        "clf.score(Xtest, ytest)\n",
        "\n",
        "predictions = clf.predict(Xtest)\n",
        "cmatrix = confusion_matrix(ytest, predictions)\n",
        "\n",
        "print(cmatrix)"
      ]
    },
    {
      "cell_type": "code",
      "execution_count": null,
      "metadata": {
        "id": "BEvTevCi7BLI"
      },
      "outputs": [],
      "source": [
        "# retorna as informações estatísticas do dataset\n",
        "data_df.describe()"
      ]
    },
    {
      "cell_type": "code",
      "execution_count": null,
      "metadata": {
        "id": "rReNlfTL7BLJ"
      },
      "outputs": [],
      "source": [
        "# Exibir os 5 primeiros exemplos do dataset\n",
        "# Verificar tipos de dados e features disponíveis (colunas)\n",
        "data_df.head(5)"
      ]
    },
    {
      "cell_type": "code",
      "execution_count": null,
      "metadata": {
        "id": "RIplE9rb7BLJ"
      },
      "outputs": [],
      "source": [
        "# Separando os dados em subconjunto (treino e teste)\n",
        "# 20% dos dados atribuidos ao conjunto de teste\n",
        "\n",
        "train_df_full, test_df_full = train_test_split(data_df, test_size=.2)\n",
        "\n",
        "# Removendo colunas nao numericas\n",
        "# obs: poderiamos utilizar essas colunas fazendo a transformacao das labels em numeros\n",
        "\n",
        "train_df = train_df_full.drop(['Class', 'Type of Travel', 'Customer Type'], axis='columns')\n",
        "test_df  = test_df_full.drop(['Class', 'Type of Travel', 'Customer Type'], axis='columns')\n",
        "\n",
        "train_df = train_df.dropna()\n",
        "\n",
        "# Atribuindo a coluna satisfaction como o rotulo esperado/resposta do modelo (y)\n",
        "X = train_df.drop('satisfaction', axis='columns')\n",
        "y = train_df.satisfaction\n",
        "\n",
        "test_df = test_df.dropna()\n",
        "Xtest = test_df.drop('satisfaction', axis='columns')\n",
        "ytest = test_df.satisfaction\n",
        "\n",
        "print(X.describe())\n",
        "print(y.describe())\n"
      ]
    },
    {
      "cell_type": "code",
      "execution_count": null,
      "metadata": {
        "id": "ft8G6SBr7BLJ"
      },
      "outputs": [],
      "source": [
        "X, y, Xtest, ytest = X.to_numpy(), y.to_numpy(), Xtest.to_numpy(), ytest.to_numpy()"
      ]
    },
    {
      "cell_type": "code",
      "execution_count": null,
      "metadata": {
        "id": "TAH5EJC77BLK"
      },
      "outputs": [],
      "source": [
        "# Treininado um modelo de regressao logistica com nosso dataset\n",
        "clf = LogisticRegression(penalty='l2', solver='lbfgs',random_state=0, max_iter=10000).fit(X, y)\n",
        "clf.score(Xtest, ytest)"
      ]
    },
    {
      "cell_type": "code",
      "execution_count": null,
      "metadata": {
        "id": "BXeGB41b7BLK"
      },
      "outputs": [],
      "source": [
        "print(f\"Ground truth: {y[-1]}, Predicted Value: {clf.predict([Xtest[-1]])}\")\n",
        "\n",
        "# visualizando scores através da matriz de confunsão\n",
        "predictions = clf.predict(Xtest)\n",
        "cmatrix = confusion_matrix(ytest, predictions)\n",
        "\n",
        "print(cmatrix)\n"
      ]
    },
    {
      "cell_type": "code",
      "execution_count": null,
      "metadata": {
        "id": "dbJ04MyP7BLK"
      },
      "outputs": [],
      "source": [
        "ynum = [1.0 if x == 'satisfied' else 0.0 for x in ytest]\n",
        "prednum = [1.0 if x == 'satisfied' else 0.0 for x in predictions]\n",
        "\n",
        "print(f1_score(ynum, prednum))\n",
        "print(roc_auc_score(ynum, prednum))"
      ]
    },
    {
      "cell_type": "code",
      "execution_count": null,
      "metadata": {
        "id": "jsfD65jm7BLL"
      },
      "outputs": [],
      "source": [
        "# testando diferentes configurações com MLPs\n",
        "Xnorm = normalize(X, norm='l1')\n",
        "mlp1 = MLPClassifier(hidden_layer_sizes=(2,), activation='tanh', solver='sgd', learning_rate='constant',learning_rate_init=0.01, max_iter=1000)\n",
        "mlp1.fit(Xnorm,y)\n",
        "Xtest_norm = normalize(Xtest, norm='l1')\n",
        "\n",
        "print(f'Train score: {mlp1.score(Xnorm, y)}')\n",
        "print(f'Test score: {mlp1.score(Xtest_norm, ytest)}')"
      ]
    },
    {
      "cell_type": "code",
      "execution_count": null,
      "metadata": {
        "id": "Tiv8yF-N7BLL"
      },
      "outputs": [],
      "source": [
        "\n",
        "Xnorm = normalize(X, norm='l1')\n",
        "mlp2 = MLPClassifier(hidden_layer_sizes=(10,), activation='tanh', solver='sgd', learning_rate='constant',learning_rate_init=0.01, max_iter=1000)\n",
        "mlp2.fit(Xnorm, y)\n",
        "Xtest_norm = normalize(Xtest, norm='l1')\n",
        "\n",
        "print(f'Train score: {mlp2.score(Xnorm, y)}')\n",
        "print(f'Test score: {mlp2.score(Xtest_norm, ytest)}')"
      ]
    },
    {
      "cell_type": "code",
      "execution_count": null,
      "metadata": {
        "id": "t6GYPLUJ7BLL"
      },
      "outputs": [],
      "source": [
        "Xnorm = normalize(X, norm='l1')\n",
        "mlp3 = MLPClassifier(hidden_layer_sizes=(100,), activation='tanh', solver='sgd', learning_rate='constant',learning_rate_init=0.01, max_iter=1000)\n",
        "mlp3.fit(Xnorm, y)\n",
        "Xtest_norm = normalize(Xtest, norm='l1')\n",
        "\n",
        "print(f'Train score: {mlp3.score(Xnorm, y)}')\n",
        "print(f'Test score: {mlp3.score(Xtest_norm, ytest)}')"
      ]
    },
    {
      "cell_type": "code",
      "execution_count": null,
      "metadata": {
        "id": "6DPzqv0F7BLL"
      },
      "outputs": [],
      "source": [
        "Xnorm = normalize(X, norm='l1')\n",
        "mlp4 = MLPClassifier(hidden_layer_sizes=(20,10), activation='relu', solver='adam', learning_rate='constant',learning_rate_init=0.01, max_iter=1000)\n",
        "mlp4.fit(Xnorm, y)\n",
        "Xtest_norm = normalize(Xtest, norm='l1')\n",
        "\n",
        "print(f'Train score: {mlp4.score(Xnorm, y)}')\n",
        "print(f'Test score: {mlp4.score(Xtest_norm, ytest)}')"
      ]
    },
    {
      "cell_type": "code",
      "execution_count": null,
      "metadata": {
        "id": "aSX26F7w7BLL"
      },
      "outputs": [],
      "source": [
        "Xnorm = normalize(X, norm='l1')\n",
        "mlp5 = MLPClassifier(hidden_layer_sizes=(5,10,5), activation='relu', solver='adam', learning_rate='constant',learning_rate_init=0.001, max_iter=1000)\n",
        "mlp5.fit(Xnorm, y)\n",
        "Xtest_norm = normalize(Xtest, norm='l1')\n",
        "\n",
        "print(f'Train score: {mlp5.score(Xnorm, y)}')\n",
        "print(f'Test score: {mlp5.score(Xtest_norm, ytest)}')"
      ]
    },
    {
      "cell_type": "code",
      "execution_count": null,
      "metadata": {
        "id": "XVOYHwlw7BLL"
      },
      "outputs": [],
      "source": [
        "cols_mask = (data_df.dtypes == 'object')\n",
        "categorical_cols = list(cols_mask[cols_mask].index)\n",
        "print(categorical_cols)\n",
        "\n",
        "encoder = OrdinalEncoder()\n",
        "\n",
        "X = train_df_full.copy()\n",
        "X = X.dropna()\n",
        "X[categorical_cols] = encoder.fit_transform(X[categorical_cols])\n",
        "X = X.drop('satisfaction', axis='columns')\n",
        "y = train_df.satisfaction\n",
        "\n",
        "Xtest = test_df_full.copy()\n",
        "Xtest = Xtest.dropna()\n",
        "Xtest[categorical_cols] = encoder.fit_transform(Xtest[categorical_cols])\n",
        "ytest = test_df.satisfaction\n",
        "Xtest = Xtest.drop('satisfaction', axis='columns')\n",
        "\n",
        "print(X.describe())\n",
        "print(y.describe())\n",
        "\n",
        "X, y, Xtest, ytest = X.to_numpy(), y.to_numpy(), Xtest.to_numpy(), ytest.to_numpy()\n",
        "\n",
        "clf = LogisticRegression(penalty='l2', solver='lbfgs',random_state=0, max_iter=10000).fit(X, y)\n",
        "print(f\"Logistic Train score: {clf.score(X,y)}\")\n",
        "print(f\"Logistic Test  score: {clf.score(Xtest, ytest)}\")\n",
        "\n",
        "Xnorm = normalize(X, norm='l1')\n",
        "mlp = MLPClassifier(hidden_layer_sizes=(20,10), activation='relu', solver='adam', learning_rate='constant',learning_rate_init=0.01, max_iter=1000)\n",
        "mlp.fit(Xnorm, y)\n",
        "Xtest_norm = normalize(Xtest, norm='l1')\n",
        "\n",
        "print(f'MLP Train score: {mlp.score(Xnorm, y)}')\n",
        "print(f'MLP Test score: {mlp.score(Xtest_norm, ytest)}')\n",
        "\n"
      ]
    }
  ],
  "metadata": {
    "kernelspec": {
      "display_name": "Python 3",
      "language": "python",
      "name": "python3"
    },
    "language_info": {
      "codemirror_mode": {
        "name": "ipython",
        "version": 3
      },
      "file_extension": ".py",
      "mimetype": "text/x-python",
      "name": "python",
      "nbconvert_exporter": "python",
      "pygments_lexer": "ipython3",
      "version": "3.8.17"
    },
    "colab": {
      "provenance": []
    }
  },
  "nbformat": 4,
  "nbformat_minor": 0
}