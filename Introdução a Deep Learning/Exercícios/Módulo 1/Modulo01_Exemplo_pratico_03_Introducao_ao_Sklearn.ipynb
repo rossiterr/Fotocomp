{
  "nbformat": 4,
  "nbformat_minor": 0,
  "metadata": {
    "colab": {
      "provenance": []
    },
    "kernelspec": {
      "name": "python3",
      "display_name": "Python 3"
    },
    "language_info": {
      "name": "python"
    }
  },
  "cells": [
    {
      "cell_type": "markdown",
      "source": [
        "# Modelo para classificação de imagens com o algoritmo SGD, utilizando o dataset \"digits\":"
      ],
      "metadata": {
        "id": "_LJ4zS8oDPIa"
      }
    },
    {
      "cell_type": "code",
      "source": [
        "# Importando as bibliotecas necessárias\n",
        "from sklearn import datasets\n",
        "from sklearn.model_selection import train_test_split\n",
        "from sklearn.svm import SVC\n",
        "from sklearn.linear_model import SGDClassifier\n",
        "from sklearn.metrics import accuracy_score\n",
        "from sklearn.model_selection import cross_val_score\n",
        "from sklearn.preprocessing import OneHotEncoder\n",
        "from sklearn.neural_network import MLPClassifier\n",
        "from sklearn.datasets import make_classification\n",
        "from sklearn.linear_model import LogisticRegression\n",
        "\n",
        "import matplotlib.pyplot as plt\n",
        "import numpy as np"
      ],
      "metadata": {
        "id": "RCZ2F3b5kBCT"
      },
      "execution_count": null,
      "outputs": []
    },
    {
      "cell_type": "code",
      "source": [
        "# Carregando o conjunto de dados Digits (números escritos à mão)\n",
        "digits = datasets.load_digits()\n",
        "\n",
        "# extraindo os dados e as labels\n",
        "X_digits = digits.data\n",
        "y_digits = digits.target"
      ],
      "metadata": {
        "id": "_PROz4irkFVq"
      },
      "execution_count": null,
      "outputs": []
    },
    {
      "cell_type": "code",
      "source": [
        "# Dividir os dados em treino e teste (80% treino, 20% teste)\n",
        "X_train, X_test, y_train, y_test = train_test_split(X_digits, y_digits, test_size=0.2, random_state=42)\n",
        "\n",
        "print(\"Número de amostras de treino:\", len(X_train))\n",
        "print(\"Número de amostras de teste:\", len(X_test))"
      ],
      "metadata": {
        "id": "beu0CmawdUQC"
      },
      "execution_count": null,
      "outputs": []
    },
    {
      "cell_type": "code",
      "source": [
        "# Criando o modelo\n",
        "sgd_classifier = SGDClassifier(max_iter=1000, random_state=42)\n",
        "\n",
        "# iniciando o processo de treinamento\n",
        "# A API do sklearn possui uma interface padrão para todos os modelos do framework\n",
        "# Chamamos a função fit da classe passando como parâmetro os exemplos e os labels\n",
        "# Podemos customizar os parâmetros da função fit\n",
        "# Cada algoritmo ou modelo possui parâmetros específicos\n",
        "# Consulte a API do modelo para descobrir as customizações disponíveis\n",
        "sgd_classifier.fit(X_train, y_train)\n",
        "\n",
        "# Utilizamos o predict para fazer predições no conjunto de teste\n",
        "# Passamos apenas os exemplos sem o rotulo\n",
        "# Podemos comparar posteriormente as predições geradas com o valor esperado\n",
        "y_pred = sgd_classifier.predict(X_test)\n",
        "\n",
        "# Avaliar a acurácia do modelo\n",
        "accuracy = accuracy_score(y_test, y_pred)\n",
        "print(\"Acurácia do SGDClassifier no conjunto de teste:\", accuracy)"
      ],
      "metadata": {
        "id": "3kL4YybvgNzO"
      },
      "execution_count": null,
      "outputs": []
    },
    {
      "cell_type": "code",
      "source": [
        "# Realizando uma predição e visualizando o resultado\n",
        "\n",
        "# Selecionar uma amostra aleatória do conjunto de teste\n",
        "sample_index = np.random.randint(0, len(X_test))\n",
        "sample_image = X_test[sample_index].reshape(8, 8)  # Os dígitos são imagens de 8x8 pixels\n",
        "true_label = y_test[sample_index]\n",
        "\n",
        "# Fazer a predição para a amostra selecionada\n",
        "predicted_label = sgd_classifier.predict([X_test[sample_index]])[0]\n",
        "\n",
        "# Visualizar a imagem e a predição\n",
        "plt.imshow(sample_image, cmap='gray')\n",
        "plt.title(f\"Valor real: {true_label}        Previsto pelo modelo: {predicted_label}\")\n",
        "plt.show()"
      ],
      "metadata": {
        "id": "oCJa5a-9gjE-"
      },
      "execution_count": null,
      "outputs": []
    },
    {
      "cell_type": "markdown",
      "source": [
        "# Validação cruzada do modelo:\n",
        "\n"
      ],
      "metadata": {
        "id": "5XWdDZr5DvJL"
      }
    },
    {
      "cell_type": "code",
      "source": [
        "# Realizar a validação cruzada com 5 folds\n",
        "cross_val_scores = cross_val_score(sgd_classifier, digits.data, digits.target, cv=5, scoring='accuracy')\n",
        "\n",
        "# Exibir as pontuações de validação cruzada\n",
        "print(\"Pontuações de Validação Cruzada:\", cross_val_scores)\n",
        "\n",
        "# Exibir a média e o desvio padrão das pontuações\n",
        "print(f\"Acurácia Média: {np.mean(cross_val_scores):.2f}\")\n",
        "print(f\"Desvio Padrão: {np.std(cross_val_scores):.2f}\")"
      ],
      "metadata": {
        "id": "XVeVhJtegx-I"
      },
      "execution_count": null,
      "outputs": []
    },
    {
      "cell_type": "markdown",
      "source": [
        "# Normalização e encoding(one-hot):\n",
        "\n"
      ],
      "metadata": {
        "id": "VjYZBx4KFEHG"
      }
    },
    {
      "cell_type": "code",
      "source": [
        "import pandas as pd\n",
        "from sklearn.preprocessing import MinMaxScaler, OneHotEncoder\n",
        "from sklearn.compose import ColumnTransformer\n",
        "from sklearn.pipeline import Pipeline\n",
        "from sklearn.model_selection import train_test_split\n",
        "from sklearn.ensemble import RandomForestClassifier\n",
        "\n",
        "# Criar um conjunto de dados de exemplo\n",
        "dados = pd.DataFrame({\n",
        "    'idade': [25, 30, 35, 40],\n",
        "    'gênero': ['F', 'M', 'F', 'M'],\n",
        "    'salário': [50000, 80000, 60000, 70000],\n",
        "    'classe': ['A', 'B', 'A', 'B']\n",
        "})\n",
        "\n",
        "# Dividir os dados em recursos (X) e rótulos (y)\n",
        "X = dados.drop('classe', axis=1)\n",
        "y = dados['classe']\n",
        "\n",
        "# Dividir em conjuntos de treino e teste\n",
        "X_train, X_test, y_train, y_test = train_test_split(X, y, test_size=0.25, random_state=42)\n",
        "\n",
        "# Definir as colunas a serem normalizadas e as a serem one-hot encoded\n",
        "numeric_features = ['idade', 'salário']\n",
        "categorical_features = ['gênero']\n",
        "\n",
        "# Criar um transformador para aplicar normalização e one-hot encoding\n",
        "preprocessor = ColumnTransformer(\n",
        "    transformers=[\n",
        "        ('num', MinMaxScaler(), numeric_features),\n",
        "        ('cat', OneHotEncoder(), categorical_features)\n",
        "    ])\n",
        "\n",
        "# Aplicar as transformações aos dados\n",
        "X_transformed = preprocessor.fit_transform(X)\n",
        "\n",
        "# Exibir coluna por coluna dos dados transformados\n",
        "print(\"Dados originais:\")\n",
        "print(X)\n",
        "\n",
        "# Coluna 1: 'idade' (Normalizada)\n",
        "print(\"\\nColuna 1 ('idade') após normalização:\")\n",
        "print(X_transformed[:, 0])\n",
        "\n",
        "# Coluna 2: 'salário' (Normalizada)\n",
        "print(\"\\nColuna 2 ('salário') após normalização:\")\n",
        "print(X_transformed[:, 1])\n",
        "\n",
        "# Colunas 3 e 4: 'gênero' (One-hot encoded)\n",
        "print(\"\\nColunas 3 e 4 ('gênero') após one-hot encoding:\")\n",
        "print(X_transformed[:, 2:])  # A partir da coluna 2 até o final\n",
        "\n",
        "# Conjunto de dados final:\n",
        "print(\"\\n Matriz final: \\n\"+str(X_transformed))\n",
        "\n",
        "# Observação: A ordem das colunas pode variar dependendo da ordem de aplicação das transformações."
      ],
      "metadata": {
        "id": "hzlmIDxYFees"
      },
      "execution_count": null,
      "outputs": []
    },
    {
      "cell_type": "markdown",
      "source": [
        "# Regressão Logística:"
      ],
      "metadata": {
        "id": "ibVLrHpPHoAj"
      }
    },
    {
      "cell_type": "code",
      "source": [
        "# Carregando um conjunto de dados para o exemplo\n",
        "iris = datasets.load_iris()\n",
        "X = iris.data[:, :2]  # Vamos usar apenas duas características para facilitar a visualização\n",
        "y = (iris.target != 0) * 1  # Transformando em um problema de classificação binária\n",
        "\n",
        "# Dividindo o conjunto de dados em treino e teste\n",
        "X_train, X_test, y_train, y_test = train_test_split(X, y, test_size=0.2, random_state=42)"
      ],
      "metadata": {
        "id": "2P_sWeXtHqPi"
      },
      "execution_count": null,
      "outputs": []
    },
    {
      "cell_type": "code",
      "source": [
        "# Inicializando o modelo de regressão logística\n",
        "model = LogisticRegression()\n",
        "\n",
        "# Treinando o modelo\n",
        "model.fit(X_train, y_train)\n",
        "\n",
        "# Fazendo previsões no conjunto de teste\n",
        "y_pred = model.predict(X_test)\n",
        "\n",
        "# Calculando a acurácia do modelo\n",
        "accuracy = np.mean(y_pred == y_test)\n",
        "print(f'Acurácia do modelo: {accuracy * 100:.2f}%')"
      ],
      "metadata": {
        "id": "b3KbTDCDLUN3"
      },
      "execution_count": null,
      "outputs": []
    },
    {
      "cell_type": "code",
      "source": [
        "# Visualizando as fronteiras de decisão\n",
        "x_min, x_max = X[:, 0].min() - 1, X[:, 0].max() + 1\n",
        "y_min, y_max = X[:, 1].min() - 1, X[:, 1].max() + 1\n",
        "xx, yy = np.meshgrid(np.arange(x_min, x_max, 0.01), np.arange(y_min, y_max, 0.01))\n",
        "Z = model.predict(np.c_[xx.ravel(), yy.ravel()])\n",
        "Z = Z.reshape(xx.shape)\n",
        "\n",
        "plt.contourf(xx, yy, Z, alpha=0.3)\n",
        "plt.scatter(X_test[:, 0], X_test[:, 1], c=y_test, edgecolors='k', marker='o', s=100, linewidth=1)\n",
        "plt.title(\"Regressão Logística - Fronteiras de Decisão\")\n",
        "plt.xlabel('Feature 1')\n",
        "plt.ylabel('Feature 2')\n",
        "plt.show()"
      ],
      "metadata": {
        "id": "X4fqJOleLYQU"
      },
      "execution_count": null,
      "outputs": []
    },
    {
      "cell_type": "markdown",
      "source": [
        "## MLPClassifier do Sklearn exemplo com classificação categorica de duas classes."
      ],
      "metadata": {
        "id": "5UdVuEIKDOg0"
      }
    },
    {
      "cell_type": "code",
      "source": [
        "# Gerando dados de exemplo\n",
        "X, y = make_classification(n_samples=1000, n_features=20, n_classes=2, random_state=42)\n",
        "\n",
        "# Dividindo os dados em conjuntos de treino e teste\n",
        "X_train, X_test, y_train, y_test = train_test_split(X, y, test_size=0.2, random_state=42)"
      ],
      "metadata": {
        "id": "zkR62k5KDTff"
      },
      "execution_count": null,
      "outputs": []
    },
    {
      "cell_type": "code",
      "source": [
        "# Plotando os dados de treino\n",
        "plt.figure(figsize=(12, 5))\n",
        "\n",
        "# Mapeamento das classes para cores\n",
        "color_map = {0: 'red', 1: 'green'}\n",
        "\n",
        "# Usando 'c' para fornecer cores diretamente\n",
        "plt.scatter(X_train[:, 0], X_train[:, 1], c=[color_map[label] for label in y_train])\n",
        "\n",
        "plt.title('Dados de Treino')\n",
        "plt.xlabel('Feature 1')\n",
        "plt.ylabel('Feature 2')\n",
        "\n",
        "# Adicionando a legenda\n",
        "for class_label, color in color_map.items():\n",
        "    plt.scatter([], [], c=color, label=f'Classe {class_label}')\n",
        "\n",
        "plt.legend()\n",
        "plt.show()"
      ],
      "metadata": {
        "id": "KS1nNKpSD8UR"
      },
      "execution_count": null,
      "outputs": []
    },
    {
      "cell_type": "code",
      "source": [
        "# Crie o classificador MLP\n",
        "classificador = MLPClassifier(hidden_layer_sizes=(100,), max_iter=800, random_state=42)\n",
        "\n",
        "# Treine o classificador\n",
        "classificador.fit(X_train, y_train)\n",
        "\n",
        "# Faça previsões no conjunto de teste\n",
        "y_pred = classificador.predict(X_test)\n",
        "\n",
        "# Avalie a precisão do modelo\n",
        "acuracia = accuracy_score(y_test, y_pred)\n",
        "print(f'Acurácia: {acuracia}')"
      ],
      "metadata": {
        "id": "7feXd0pYD_Po"
      },
      "execution_count": null,
      "outputs": []
    },
    {
      "cell_type": "code",
      "source": [
        "# Gerar um novo dado de exemplo para previsão\n",
        "novo_dado = np.random.rand(1, 20)\n",
        "\n",
        "# Realizar a previsão do novo dado\n",
        "previsao = classificador.predict(novo_dado)"
      ],
      "metadata": {
        "id": "IQpCrV7fH2aT"
      },
      "execution_count": null,
      "outputs": []
    },
    {
      "cell_type": "code",
      "source": [
        "# Plotar os dados de treino\n",
        "plt.figure(figsize=(12, 5))\n",
        "plt.scatter(X_train[:, 0], X_train[:, 1], c=[color_map[label] for label in y_train])\n",
        "\n",
        "# Adicionar o novo dado à plotagem\n",
        "plt.scatter(novo_dado[:, 0], novo_dado[:, 1], c='black', marker='x', s=100, label='Novo Dado')\n",
        "\n",
        "plt.title('Dados de Treino com Novo Dado')\n",
        "plt.xlabel('Feature 1')\n",
        "plt.ylabel('Feature 2')\n",
        "\n",
        "# Adicionar a legenda\n",
        "for class_label, color in color_map.items():\n",
        "    plt.scatter([], [], c=color, label=f'Classe {class_label}')\n",
        "\n",
        "# Exibir a plotagem\n",
        "plt.legend()\n",
        "plt.show()\n",
        "\n",
        "# Exibir a previsão da classe do novo dado\n",
        "print(f'Previsão da Classe para o Novo Dado: {previsao[0]}')"
      ],
      "metadata": {
        "id": "FM6DZaE2IOb1"
      },
      "execution_count": null,
      "outputs": []
    },
    {
      "cell_type": "markdown",
      "source": [
        "## Exercícíos\n",
        "\n",
        "Replique os resultados deste colab utilizando o dataset lfw do sklearn. https://scikit-learn.org/stable/modules/generated/sklearn.datasets.fetch_lfw_people.html#sklearn.datasets.fetch_lfw_people\n",
        "\n",
        "1 - Escolha 3 modelos de classificação disponível na API do sklearn. https://scikit-learn.org/stable/auto_examples/classification/plot_classifier_comparison.html#sphx-glr-auto-examples-classification-plot-classifier-comparison-py\n",
        "\n",
        "2 - Carregue o dataset e separe as partições de treino, validação e teste.\n",
        "\n",
        "3 - Visualize os dados e as classes com base nos rotulos\n",
        "\n",
        "4 - Realize o processamento dos dados se necessário\n",
        "\n",
        "5 - Treine os modelos com os dados obtidos\n",
        "\n",
        "6 - Realize avaliações no conjunto de teste e compare os resultados dos modelos\n"
      ],
      "metadata": {
        "id": "_78ZEwIMRWpE"
      }
    }
  ]
}