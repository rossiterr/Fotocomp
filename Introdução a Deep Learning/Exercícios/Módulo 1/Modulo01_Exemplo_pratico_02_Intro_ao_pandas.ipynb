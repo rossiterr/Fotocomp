{
  "nbformat": 4,
  "nbformat_minor": 0,
  "metadata": {
    "colab": {
      "provenance": []
    },
    "kernelspec": {
      "name": "python3",
      "display_name": "Python 3"
    },
    "language_info": {
      "name": "python"
    }
  },
  "cells": [
    {
      "cell_type": "markdown",
      "source": [
        "## Instalando e importando a biblioteca:"
      ],
      "metadata": {
        "id": "vz62eQPQOH31"
      }
    },
    {
      "cell_type": "code",
      "execution_count": null,
      "metadata": {
        "id": "XuqRqqXwHCL5"
      },
      "outputs": [],
      "source": [
        "pip install pandas"
      ]
    },
    {
      "cell_type": "code",
      "source": [
        "#Importando a biblioteca:\n",
        "import numpy as np\n",
        "import pandas as pd"
      ],
      "metadata": {
        "id": "zScgL6lMOM1P"
      },
      "execution_count": null,
      "outputs": []
    },
    {
      "cell_type": "markdown",
      "source": [
        "## Séries e Dataframes:\n",
        "\n",
        "\n",
        "Séries: um array unidimensional rotulado que contém qualquer tipo de dado\n",
        "\n",
        "Dataframe: uma estrutura de dados bidimensional que contém dados como uma tabela com linhas e colunas"
      ],
      "metadata": {
        "id": "JVXTOY1bOud0"
      }
    },
    {
      "cell_type": "code",
      "source": [
        "array = np.array([2,5,3,8,0,5,np.nan])\n",
        "\n",
        "#criando a série\n",
        "serie = pd.Series(array)\n",
        "\n",
        "#tipo e conteúdo\n",
        "print(type(serie))\n",
        "print(serie)"
      ],
      "metadata": {
        "id": "cbMm3xcjOx8K"
      },
      "execution_count": null,
      "outputs": []
    },
    {
      "cell_type": "code",
      "source": [
        "#dicionário que será passado para criar o dataframe\n",
        "data = {'Nome': ['Alice', 'Bob', 'Charlie', 'David'],\n",
        "        'Idade': [25, 30, 35, 40]}\n",
        "\n",
        "#criação do dataframe\n",
        "df = pd.DataFrame(data)\n",
        "print(df)"
      ],
      "metadata": {
        "id": "AucWoTZyQMEK"
      },
      "execution_count": null,
      "outputs": []
    },
    {
      "cell_type": "markdown",
      "source": [
        "## Acessando e alterando valores:"
      ],
      "metadata": {
        "id": "r2rf5DPLWisS"
      }
    },
    {
      "cell_type": "code",
      "source": [
        "#selecionando dados específicos do dataframe:\n",
        "nomes = df['Nome']\n",
        "idades = df['Idade']\n",
        "print(nomes)\n",
        "print(idades)"
      ],
      "metadata": {
        "id": "-sCMC30UT-g2"
      },
      "execution_count": null,
      "outputs": []
    },
    {
      "cell_type": "code",
      "source": [
        "#filtrando pessoas com idade acima de 30\n",
        "df_filtrado = df[df['Idade'] > 30]\n",
        "print(df_filtrado)"
      ],
      "metadata": {
        "id": "tlw9hJUDWaeU"
      },
      "execution_count": null,
      "outputs": []
    },
    {
      "cell_type": "code",
      "source": [
        "#ordenando por idade em ordem decrescente\n",
        "df_ordenado = df.sort_values(by='Idade', ascending=False)\n",
        "print(df_ordenado)"
      ],
      "metadata": {
        "id": "BSNklEKGWtvo"
      },
      "execution_count": null,
      "outputs": []
    },
    {
      "cell_type": "code",
      "source": [
        "#adicionando uma nova coluna\n",
        "df['Cidade'] = ['Nova York', 'Los Angeles', 'Chicago', 'Houston']\n",
        "print(df)"
      ],
      "metadata": {
        "id": "yZMyF5dAbi6S"
      },
      "execution_count": null,
      "outputs": []
    },
    {
      "cell_type": "code",
      "source": [
        "#agrupando dados e aplicando funções de agregação\n",
        "media_idade_por_cidade = df.groupby('Cidade')['Idade'].mean()\n",
        "print(media_idade_por_cidade)"
      ],
      "metadata": {
        "id": "SWKadE6yb9Xa"
      },
      "execution_count": null,
      "outputs": []
    },
    {
      "cell_type": "code",
      "source": [
        "#removendo uma coluna\n",
        "df = df.drop(columns=['Cidade'])\n",
        "print(df)"
      ],
      "metadata": {
        "id": "ylhnKr5wcRRN"
      },
      "execution_count": null,
      "outputs": []
    },
    {
      "cell_type": "code",
      "source": [
        "#resumindo estatísticas descritivas do DataFrame\n",
        "print(df.describe())"
      ],
      "metadata": {
        "id": "BsOTczCWb3n-"
      },
      "execution_count": null,
      "outputs": []
    },
    {
      "cell_type": "markdown",
      "source": [
        "## Salvando e Abrindo arquivos do tipo CSV"
      ],
      "metadata": {
        "id": "5X-g6uaicuuT"
      }
    },
    {
      "cell_type": "code",
      "source": [
        "#salvando o DataFrame em um arquivo CSV\n",
        "df.to_csv('novo_arquivo.csv', index=False)"
      ],
      "metadata": {
        "id": "7WJimA6QcJoX"
      },
      "execution_count": null,
      "outputs": []
    },
    {
      "cell_type": "code",
      "source": [
        "datasframe2 = pd.read_csv('novo_arquivo.csv')\n",
        "print(datasframe2.head())"
      ],
      "metadata": {
        "id": "DtM-4rBqceef"
      },
      "execution_count": null,
      "outputs": []
    },
    {
      "cell_type": "markdown",
      "source": [
        "## Exercícios\n",
        "\n",
        "Utilize a tabela disponível em: https://github.com/infoslack/ml-book-exemplos/blob/main/data/venda-de-carros-formatado.csv\n",
        "\n",
        "01 - Carregue o csv em um dataframe e visualize os dados imprimindo as 5 primeiras linhas do dataframe\n",
        "\n",
        "02 - Obtenha o nome de todas as colunas do dataframe\n",
        "\n",
        "03 - Exiba as informações estatísticas sobre os dados\n",
        "\n",
        "04 - Verifique as entradas válidas e remova linhas com dados faltantes (NaN)\n",
        "\n",
        "05 - Ajuste as colunas para que contenham o tipo correto (e.g., preço = float)\n",
        "\n",
        "06 - Obtenha um dataframe que contenha apenas carros com 4 portas\n",
        "\n",
        "07 - Imprima o tamanho do dataframe\n",
        "\n",
        "08 - Obtenha o item da segunda linha\n",
        "\n",
        "09 - Obtenha a média das quilometragens existentes no conjunto"
      ],
      "metadata": {
        "id": "IhiKxxzXjmPz"
      }
    }
  ]
}